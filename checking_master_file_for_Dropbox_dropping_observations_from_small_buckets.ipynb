{
 "cells": [
  {
   "cell_type": "code",
   "execution_count": 1,
   "metadata": {
    "collapsed": false
   },
   "outputs": [
    {
     "data": {
      "text/html": [
       "<style>.container { width:100% !important; }</style>"
      ],
      "text/plain": [
       "<IPython.core.display.HTML object>"
      ]
     },
     "metadata": {},
     "output_type": "display_data"
    }
   ],
   "source": [
    "%matplotlib inline  \n",
    "import matplotlib.pyplot as plt   \n",
    "import pandas as pd\n",
    "import numpy as np\n",
    "from tqdm import tqdm\n",
    "from tqdm import tnrange, tqdm_notebook\n",
    "from time import sleep\n",
    "import scipy\n",
    "import operator\n",
    "import difflib\n",
    "import itertools\n",
    "from IPython.core.display import display,HTML\n",
    "try:\n",
    "    import cPickle as pickle     #it is faster than pickle!\n",
    "except:\n",
    "    import pickle\n",
    "    \n",
    "import unicodedata\n",
    "\n",
    "    \n",
    "display(HTML(\"<style>.container { width:100% !important; }</style>\"))  # to make the notebook use the entire width of the browser"
   ]
  },
  {
   "cell_type": "code",
   "execution_count": 2,
   "metadata": {
    "collapsed": false,
    "scrolled": true
   },
   "outputs": [
    {
     "name": "stdout",
     "output_type": "stream",
     "text": [
      "CPU times: user 628 ms, sys: 60 ms, total: 688 ms\n",
      "Wall time: 689 ms\n",
      "read: /home/juliaponcela/at_NICO/Dropbox_collaboration_patterns/Data/Merged_LinkedIn_WoS/Merged_linkedin-WoS_GS_extra70univ_anonymized_groups_for_Dropbox_binSize25_macro_fields.pickle\n",
      "(203161, 14)\n"
     ]
    }
   ],
   "source": [
    "path_merge_linux='/home/juliaponcela/at_NICO/Dropbox_collaboration_patterns/Data/Merged_LinkedIn_WoS/'\n",
    "#filename=\"Merged_linkedin-WoS_GS_extra70univ.pickle\"\n",
    "#filename_merged=\"Merged_linkedin-WoS_GS_extra70univ.pickle\"\n",
    "              \n",
    "    \n",
    "bucket_size=25 ###   25 or 250\n",
    "macro_fields=\"_macro_fields\" #  \"\"   or \"_macro_fields\"\n",
    "\n",
    "#filename_merged=\"Merged_linkedin-WoS_GS_extra70univ_anonymized_groups_all_and_by_field_for_Dropbox.pickle\"\n",
    "#new=\"/home/juliaponcela/at_NICO/Dropbox_collaboration_patterns/Data/Merged_LinkedIn_WoS/Merged_linkedin-WoS_GS_extra70univ_anonymized_groups_all_for_Dropbox_binSize250.pickle\"\n",
    "#new=\"/home/juliaponcela/at_NICO/Dropbox_collaboration_patterns/Data/Merged_LinkedIn_WoS/Merged_linkedin-WoS_GS_extra70univ_anonymized_groups_all_for_Dropbox_binSize25_macro_fields.pickle\"\n",
    "\n",
    "\n",
    "new=\"/home/juliaponcela/at_NICO/Dropbox_collaboration_patterns/Data/Merged_LinkedIn_WoS/Merged_linkedin-WoS_GS_extra70univ_anonymized_groups_for_Dropbox_binSize\"+str(bucket_size)+macro_fields+\".pickle\"\n",
    "# new=\"/home/juliaponcela/at_NICO/Dropbox_collaboration_patterns/Data/Merged_LinkedIn_WoS/Merged_linkedin-WoS_GS_extra70univ_anonymized_groups_for_Dropbox_binSize\"+str(bucket_size)+\"_macro_fields.pickle\"\n",
    "# new=\"/home/juliaponcela/at_NICO/Dropbox_collaboration_patterns/Data/Merged_LinkedIn_WoS/Merged_linkedin-WoS_GS_extra70univ_anonymized_groups_for_Dropbox_binSize\"+str(bucket_size)+\".pickle\"\n",
    "# new=\"/home/juliaponcela/at_NICO/Dropbox_collaboration_patterns/Data/Merged_LinkedIn_WoS/Merged_linkedin-WoS_GS_extra70univ_anonymized_groups_for_Dropbox_binSize\"+str(bucket_size)+\".pickle\"\n",
    "\n",
    "   \n",
    "#     /home/juliaponcela/at_NICO/Dropbox_collaboration_patterns/Data/Merged_LinkedIn_WoS/Merged_linkedin-WoS_GS_extra70univ_anonymized_groups_for_Dropbox_binSize25_macro_fields.pickle\n",
    "\n",
    "\n",
    "\n",
    "#%time df = pd.read_excel(open(path_merge_linux+filename.split(\".\")[0]+\".xlsx\",'rb'))\n",
    "\n",
    "# print \"done reading xlsx\"\n",
    "\n",
    "%time df = pd.read_pickle(new)\n",
    "\n",
    "print \"read:\", new\n",
    "\n",
    "\n",
    "print df.shape\n",
    "\n",
    "\n",
    "\n"
   ]
  },
  {
   "cell_type": "code",
   "execution_count": 3,
   "metadata": {
    "collapsed": false
   },
   "outputs": [
    {
     "name": "stdout",
     "output_type": "stream",
     "text": [
      "Index([        u'full_name_linkedin',                      u'Email',\n",
      "              u'University_linkedin',                      u'Field',\n",
      "               u'ranking_University', u'group_ranking20_University',\n",
      "       u'group_ranking30_University', u'group_ranking50_University',\n",
      "                 u'group_total_pubs',        u'group_num_coauthors',\n",
      "             u'group_num_papers_1st',      u'group_num_papers_last',\n",
      "            u'group_num_papers_solo',        u'group_num_citations'],\n",
      "      dtype='object')\n"
     ]
    },
    {
     "data": {
      "text/plain": [
       "102"
      ]
     },
     "execution_count": 3,
     "metadata": {},
     "output_type": "execute_result"
    }
   ],
   "source": [
    "print df.columns\n",
    "\n",
    "len(df.University_linkedin.unique())"
   ]
  },
  {
   "cell_type": "code",
   "execution_count": 6,
   "metadata": {
    "collapsed": false,
    "scrolled": false
   },
   "outputs": [
    {
     "name": "stdout",
     "output_type": "stream",
     "text": [
      "# rows with WoS info: 75034.0\n"
     ]
    }
   ],
   "source": [
    "# df.groupby('ranking_University').size()\n",
    "cont_num_complete_rows =0.\n",
    "for item in pd.isnull(df['group_total_pubs']):\n",
    "    if item ==False:\n",
    "        cont_num_complete_rows +=1\n",
    "print  \"# rows with WoS info:\",cont_num_complete_rows"
   ]
  },
  {
   "cell_type": "code",
   "execution_count": 5,
   "metadata": {
    "collapsed": false
   },
   "outputs": [
    {
     "name": "stdout",
     "output_type": "stream",
     "text": [
      "(203161, 14) # rows with email: 203161.0\n"
     ]
    }
   ],
   "source": [
    "# df.groupby('ranking_University').size()\n",
    "cont_num_complete_rows =0.\n",
    "for item in pd.isnull(df['Email']):\n",
    "    if item ==False:\n",
    "        cont_num_complete_rows +=1\n",
    "print  df.shape, \"# rows with email:\",cont_num_complete_rows"
   ]
  },
  {
   "cell_type": "code",
   "execution_count": null,
   "metadata": {
    "collapsed": false,
    "scrolled": true
   },
   "outputs": [],
   "source": [
    "df.groupby('Field').size()"
   ]
  },
  {
   "cell_type": "code",
   "execution_count": 7,
   "metadata": {
    "collapsed": false,
    "scrolled": true
   },
   "outputs": [
    {
     "name": "stdout",
     "output_type": "stream",
     "text": [
      "new_University_linkedin\n",
      "new_Field\n",
      "new_ranking_University\n",
      "new_group_ranking20_University\n",
      "new_group_ranking30_University\n",
      "new_group_ranking50_University\n",
      "new_group_total_pubs\n",
      "new_group_num_coauthors\n",
      "new_group_num_papers_1st\n",
      "new_group_num_papers_last\n",
      "new_group_num_papers_solo\n",
      "new_group_num_citations\n"
     ]
    }
   ],
   "source": [
    "def replace_NAN(value):\n",
    "    \n",
    "    #pd.isnull(df2['one'])\n",
    "#     print value, pd.isnull(value)\n",
    "#     raw_input()\n",
    "    \n",
    "    \n",
    "    if pd.isnull(value):\n",
    "        return -1\n",
    "    else: \n",
    "        return value\n",
    "    \n",
    "\n",
    "    \n",
    "    \n",
    "\n",
    "list_var=['University_linkedin','Field','ranking_University','group_ranking20_University','group_ranking30_University','group_ranking50_University','group_total_pubs','group_num_coauthors','group_num_papers_1st','group_num_papers_last','group_num_papers_solo','group_num_citations']\n",
    "\n",
    "\n",
    "for var in list_var:\n",
    "    new_var=\"new_\"+str(var)\n",
    "    print new_var\n",
    "    df[new_var]=df[var].apply(replace_NAN)\n",
    "\n",
    "\n",
    "\n",
    "\n",
    "\n",
    "# df_disamb_wos_test['University'] = df_disamb_wos_test.apply(lambda row: row.University.replace(\", \",\",\").replace(\"[\",\"\").replace(\"]\",\"\").split(\",\"), axis=1)\n"
   ]
  },
  {
   "cell_type": "code",
   "execution_count": null,
   "metadata": {
    "collapsed": false,
    "scrolled": true
   },
   "outputs": [],
   "source": [
    "# list_var=['University_linkedin','Field','ranking_University','group_total_pubs','group_num_coauthors','group_num_papers_1st','group_num_papers_last','group_num_papers_solo','group_num_citations']\n",
    "\n",
    "# for var in list_var:\n",
    "#     new_var=\"new_\"+str(var)\n",
    "#     print df[[var,new_var]].head(50)\n",
    "#     raw_input()"
   ]
  },
  {
   "cell_type": "code",
   "execution_count": null,
   "metadata": {
    "collapsed": true
   },
   "outputs": [],
   "source": []
  },
  {
   "cell_type": "code",
   "execution_count": null,
   "metadata": {
    "collapsed": true
   },
   "outputs": [],
   "source": []
  },
  {
   "cell_type": "code",
   "execution_count": null,
   "metadata": {
    "collapsed": true
   },
   "outputs": [],
   "source": []
  },
  {
   "cell_type": "code",
   "execution_count": 8,
   "metadata": {
    "collapsed": false
   },
   "outputs": [
    {
     "name": "stdout",
     "output_type": "stream",
     "text": [
      "102\n",
      "6\n"
     ]
    }
   ],
   "source": [
    "print len(df.University_linkedin.unique())\n",
    "print len(df.Field.unique())"
   ]
  },
  {
   "cell_type": "code",
   "execution_count": null,
   "metadata": {
    "collapsed": false
   },
   "outputs": [],
   "source": [
    "###################################################################\n",
    "# for checking the number of rows with info in any given field(s):#\n",
    "###################################################################\n",
    "\n",
    "\n",
    "# full_name_linkedin\n",
    "# Email\n",
    "# University_linkedin\n",
    "# Field\n",
    "# ranking_University\n",
    "# group_total_pubs\n",
    "# group_num_coauthors\n",
    "# group_num_papers_1st\n",
    "# group_num_papers_last\n",
    "# group_num_papers_solo\n",
    "# group_num_citations\n",
    "\n",
    "# df_complete_info=df[['full_name_linkedin','Field','group_num_citations']].dropna(how='any')  # by default, dropna drops a row if ANY  of the indicated fields are missing (i can also set it to if ALL the fields are missing: how='all')\n",
    "# print df_complete_info.shape"
   ]
  },
  {
   "cell_type": "code",
   "execution_count": null,
   "metadata": {
    "collapsed": false
   },
   "outputs": [],
   "source": [
    "df.shape"
   ]
  },
  {
   "cell_type": "code",
   "execution_count": 9,
   "metadata": {
    "collapsed": false,
    "scrolled": true
   },
   "outputs": [
    {
     "name": "stdout",
     "output_type": "stream",
     "text": [
      "new_group_num_coauthors 203161\n",
      "Field 203161\n",
      "new_Field 203161\n",
      "new_ranking_University 203161\n",
      "new_group_ranking30_University 203161\n",
      "new_group_ranking20_University 203161\n",
      "new_group_num_papers_solo 203161\n",
      "new_group_num_papers_1st 203161\n",
      "University_linkedin 203161\n",
      "Email 203161\n",
      "full_name_linkedin 203161\n",
      "new_group_total_pubs 203161\n",
      "new_group_num_citations 203161\n",
      "new_group_ranking50_University 203161\n",
      "new_University_linkedin 203161\n",
      "new_group_num_papers_last 203161\n",
      "group_ranking30_University 203159\n",
      "group_ranking50_University 203159\n",
      "group_ranking20_University 203159\n",
      "ranking_University 203159\n",
      "group_total_pubs 75034\n",
      "group_num_papers_last 75034\n",
      "group_num_papers_1st 75034\n",
      "group_num_papers_solo 75034\n",
      "group_num_coauthors 75034\n",
      "group_num_citations 75034\n"
     ]
    }
   ],
   "source": [
    "dict_columns_size={}\n",
    "for column in df.columns:\n",
    "    df_complete_info=df[[column]].dropna(how='any')  # by default, dropna drops a row if ANY  of the indicated fields are missing (i can also set it to if ALL the fields are missing: how='all')\n",
    "#    print column, len(df_complete_info)\n",
    "    \n",
    "    dict_columns_size[column]=len(df_complete_info)\n",
    "    \n",
    "    \n",
    "    \n",
    "sorted_list_dict = sorted(dict_columns_size.items(), key=operator.itemgetter(1))\n",
    "\n",
    "sorted_list_dict=list(reversed(sorted_list_dict))\n",
    "for item in sorted_list_dict:\n",
    "    print item[0], item[1]"
   ]
  },
  {
   "cell_type": "code",
   "execution_count": 10,
   "metadata": {
    "collapsed": false,
    "scrolled": true
   },
   "outputs": [
    {
     "data": {
      "text/plain": [
       "University_linkedin\n",
       "Agriculture                                      1\n",
       "University                                       1\n",
       "Rockefeller University                          79\n",
       "Georgetown University                          293\n",
       "California Institute of Technology             364\n",
       "University of Colorado                         405\n",
       "Rensselaer Polytechnic Institute               455\n",
       "Stony Brook University                         481\n",
       "University of Rochester                        674\n",
       "Colorado State University                      680\n",
       "Emory University                               705\n",
       "University of California Santa Cruz            728\n",
       "Case Western Reserve University                761\n",
       "University of Alabama                          828\n",
       "Vanderbilt University                          901\n",
       "Dartmouth College                              906\n",
       "University of California Riverside             915\n",
       "University of Vermont                          981\n",
       "Tufts University                               987\n",
       "University of South Florida                   1001\n",
       "University of Massachusetts                   1034\n",
       "Princeton University                          1083\n",
       "University of California Santa Barbara        1106\n",
       "University of Notre Dame                      1122\n",
       "George Washington University                  1183\n",
       "University of New Hampshire                   1190\n",
       "Northeastern University                       1227\n",
       "Georgia Institute of Technology               1229\n",
       "Boston University                             1310\n",
       "Oregon Health & Science University            1310\n",
       "                                              ... \n",
       "Johns Hopkins University                      2485\n",
       "Iowa State University                         2491\n",
       "North Carolina State University               2573\n",
       "University of Connecticut                     2582\n",
       "University of California San Diego            2602\n",
       "Yeshiva University                            2642\n",
       "University of Minnesota                       2664\n",
       "University of Florida                         2758\n",
       "University of georgia                         2760\n",
       "University of North Carolina Chapel Hill      2829\n",
       "University Of Utah                            2961\n",
       "Columbia University                           2978\n",
       "University Of Wisconsin Madison               3050\n",
       "University of California Berkeley             3054\n",
       "University of Arizona                         3088\n",
       "Rutgers The State University of New Jersey    3139\n",
       "University of California Los Angeles          3225\n",
       "Cornell University                            3468\n",
       "University of Pittsburgh                      3494\n",
       "Washington University Saint Louis             3627\n",
       "Pennsylvania State University                 3704\n",
       "Yale University                               3707\n",
       "Texas A&M University                          3925\n",
       "Ohio State University                         4148\n",
       "University of Pennsylvania                    4194\n",
       "University of Washington                      4227\n",
       "Purdue University                             4605\n",
       "The University of Texas at Austin             4794\n",
       "Northwestern University                       5563\n",
       "University of Southern California             5577\n",
       "dtype: int64"
      ]
     },
     "execution_count": 10,
     "metadata": {},
     "output_type": "execute_result"
    }
   ],
   "source": [
    "# print df.Field.unique()\n",
    "# print df.columns\n",
    "# print len(df.University_linkedin.unique())\n",
    "\n",
    "\n",
    "\n",
    "#df.groupby(\"University_linkedin\").size().sort_values()\n",
    "df.groupby(\"University_linkedin\").size().sort_values()\n",
    "\n",
    "# print len(df.University_linkedin.unique())\n",
    "\n",
    "# lista.plot(kind='bar',fontsize = 'xx-small')\n",
    "\n",
    "# lista=df.sort_values(by=\"University_linkedin\").groupby(\"University_linkedin\").size()\n",
    "\n",
    "# sorted(lista)\n",
    "\n"
   ]
  },
  {
   "cell_type": "code",
   "execution_count": null,
   "metadata": {
    "collapsed": false
   },
   "outputs": [],
   "source": []
  },
  {
   "cell_type": "code",
   "execution_count": null,
   "metadata": {
    "collapsed": true
   },
   "outputs": [],
   "source": []
  },
  {
   "cell_type": "code",
   "execution_count": 11,
   "metadata": {
    "collapsed": false
   },
   "outputs": [
    {
     "name": "stdout",
     "output_type": "stream",
     "text": [
      "# indices to keep: 203159\n",
      "# of universities: 100\n"
     ]
    }
   ],
   "source": [
    "\n",
    "\n",
    "#### drop observations if they belong to the bottom universities in the list by ranking\n",
    "\n",
    "# list_droppable_univ=[\"Drexel University\", \"Georgetown University\" ,\"Temple University\",\"University of Vermont\",\"University of Texas San Antonio\",\\\n",
    "# \"University of Texas Southwestern Medical Center at Dallas\",'Dartmouth College',\"Purdue University\",\"Rensselaer Polytechnic Institute\",\\\n",
    "# \"North Carolina State University\",\"University of Connecticut\",\"Virginia Polytechnic Institute and State University\",\\\n",
    "# \"University of New Mexico\",\"University of New Hampshire\",\"University of Central Florida\",\"Syracuse University\",\"University of Kansas\",\"Georgia State University\"]\n",
    "\n",
    "\n",
    "# list_droppable_univ=[\"Agriculture\",\"University\",\"Rockefeller University\" \\\n",
    "# \"University of New Hampshire\",\"University of Central Florida\",\"Syracuse University\",\"University of Kansas\",\"Georgia State University\"]\n",
    "\n",
    "\n",
    "list_droppable_univ=[\"Agriculture\",\"University\"]#\\\n",
    " #\"Rockefeller University\",\"University of New Hampshire\",\"University of Central Florida\",\"Syracuse University\",\"University of Kansas\",\"Georgia State University\"]\n",
    "\n",
    "\n",
    "\n",
    "list_indices_to_keep=[]\n",
    "\n",
    "for row in df.iterrows():\n",
    "    #print row[1][\"ranking_University\"], row[1][\"University_linkedin\"], row[0]\n",
    "    if row[1][\"University_linkedin\"] not in list_droppable_univ:\n",
    "#         if row[0] not in list_indices_to_drop:\n",
    "            list_indices_to_keep.append(row[0])\n",
    "            \n",
    "        \n",
    "   \n",
    " \n",
    "\n",
    "\n",
    "#list_indices_to_drop=list(set(list_indices_to_drop))\n",
    "list_indices_to_keep=list(set(list_indices_to_keep))\n",
    "\n",
    "print \"# indices to keep:\", len(list_indices_to_keep)\n",
    "\n",
    "\n",
    "\n",
    "# i make a selection on the list of indices  (from the small buckets + droppable universities!)\n",
    "df=df.iloc[list_indices_to_keep]\n",
    "#df_to_drop=df.iloc[list_indices_to_drop]\n",
    "df = df.reset_index(drop=True)\n",
    "\n",
    "print \"# of universities:\",len(df.University_linkedin.unique())"
   ]
  },
  {
   "cell_type": "code",
   "execution_count": null,
   "metadata": {
    "collapsed": false
   },
   "outputs": [],
   "source": []
  },
  {
   "cell_type": "code",
   "execution_count": 12,
   "metadata": {
    "collapsed": false
   },
   "outputs": [
    {
     "data": {
      "text/plain": [
       "(203159, 26)"
      ]
     },
     "execution_count": 12,
     "metadata": {},
     "output_type": "execute_result"
    }
   ],
   "source": [
    "df.shape"
   ]
  },
  {
   "cell_type": "code",
   "execution_count": null,
   "metadata": {
    "collapsed": false
   },
   "outputs": [],
   "source": []
  },
  {
   "cell_type": "code",
   "execution_count": null,
   "metadata": {
    "collapsed": true
   },
   "outputs": [],
   "source": []
  },
  {
   "cell_type": "code",
   "execution_count": null,
   "metadata": {
    "collapsed": false,
    "scrolled": true
   },
   "outputs": [],
   "source": []
  },
  {
   "cell_type": "code",
   "execution_count": null,
   "metadata": {
    "collapsed": false,
    "scrolled": true
   },
   "outputs": [],
   "source": [
    "## to print out all possible combinations of variables and how many observations get dropped in each case\n",
    "\n",
    "# NANs=0  # or 1\n",
    "\n",
    "\n",
    "# if NANs ==1:   # 1: i use the columns that have some NANs\n",
    "    \n",
    "#     new_list_var=['University_linkedin','group_ranking20_University','group_ranking30_University','group_ranking50_University','ranking_University','Field','group_total_pubs','group_num_coauthors','group_num_papers_1st','group_num_papers_last',\\\n",
    "#  'group_num_papers_solo','group_num_citations']\n",
    "\n",
    "#     filename=path_merge_linux+'sorted_combinations_with_NANs_binsize'+str(bucket_size)+macro_fields+'.txt'\n",
    "         \n",
    "   \n",
    "\n",
    "# else:   # i use the columns where i have replaced any NANs by -1\n",
    "#     new_list_var=[\"new_University_linkedin\",'new_group_ranking20_University','new_group_ranking30_University','new_group_ranking50_University','ranking_University',\"new_Field\",\"new_group_total_pubs\",\"new_group_num_coauthors\",\"new_group_num_papers_1st\",\\\n",
    "#                 \"new_group_num_papers_last\",\"new_group_num_papers_solo\",\"new_group_num_citations\"]\n",
    "    \n",
    "#     filename=path_merge_linux+'sorted_combinations_no_NANs_binsize'+str(bucket_size)+macro_fields+'.txt'\n",
    "    \n",
    "# f = open(filename, 'wt')\n",
    "\n",
    "    \n",
    "    \n",
    "    \n",
    "    \n",
    "# dict_tuple_var_num_rows_in_too_small_bucket={}\n",
    "# dict_tuple_var_fract_rows_in_too_small_bucket={}\n",
    "# for L in range(0, len(new_list_var)+1):\n",
    "#     for subset in itertools.combinations(new_list_var, L):\n",
    "        \n",
    "        \n",
    "        \n",
    "# #         print subset, len(subset), type(subset)\n",
    "        \n",
    "\n",
    "#         lista=list(subset)  \n",
    "    \n",
    "#         if len(lista)>0:                                \n",
    "                                                    \n",
    "#             tot=0.\n",
    "#             small=0.\n",
    "#             for num in df.reset_index().groupby(lista)['index'].count().sort_values():\n",
    "#                 if num<20:\n",
    "#                     small +=num\n",
    "#                 tot += num\n",
    "\n",
    "           \n",
    "#             dict_tuple_var_num_rows_in_too_small_bucket[subset]=(small, tot)\n",
    "#             dict_tuple_var_fract_rows_in_too_small_bucket[subset]=small/ tot\n",
    "            \n",
    "\n",
    "\n",
    "# # dict_tuple_var_num_rows_in_too_small_bucket[subset]=(small, tot)\n",
    "\n",
    "# print >> f, \"different combinations of var, and how many people do not fall in bins larger than 20\"  \n",
    "\n",
    "# for w in sorted(dict_tuple_var_fract_rows_in_too_small_bucket, key=dict_tuple_var_fract_rows_in_too_small_bucket.get, reverse=True):\n",
    "#       print >> f, len(w),str(w).replace(\"('\",\"\").replace(\"')\",\"\").replace(\"', '\",\"  \").replace(\"',)\",\"\"), \" --->\",dict_tuple_var_fract_rows_in_too_small_bucket[w], dict_tuple_var_num_rows_in_too_small_bucket[w][0],dict_tuple_var_num_rows_in_too_small_bucket[w][1]\n",
    " \n",
    "# f.close()\n",
    "\n",
    "# print \"written:\",  filename\n",
    "   \n"
   ]
  },
  {
   "cell_type": "code",
   "execution_count": null,
   "metadata": {
    "collapsed": false
   },
   "outputs": [],
   "source": []
  },
  {
   "cell_type": "code",
   "execution_count": 14,
   "metadata": {
    "collapsed": false,
    "scrolled": false
   },
   "outputs": [
    {
     "name": "stdout",
     "output_type": "stream",
     "text": [
      "['new_group_ranking30_University', 'new_Field', 'new_group_total_pubs', 'new_group_num_citations', 'new_group_num_papers_last'] \n",
      "\n",
      "bucket size: 25 _macro_fields\n",
      "# rows in df: 203159.0    # rows belowing to a too-small bucket: 4644.0     2.28589429954 % \n",
      " fraction from # rows with complete info: 93.8108057681 %\n"
     ]
    }
   ],
   "source": [
    "# i check how many observations would i need to drop due to too-small buckets\n",
    "\n",
    "#lista=[\"group_ranking30_University\",\"Field\",\"group_total_pubs\",\"group_num_citations\",\"group_num_papers_last\"]#,\"new_group_num_coauthors\"]\n",
    "lista=[\"new_group_ranking30_University\",\"new_Field\",\"new_group_total_pubs\",\"new_group_num_citations\",\"new_group_num_papers_last\"]#,\"new_group_num_coauthors\"]\n",
    "\n",
    "\n",
    "list_tuplas_values=[]\n",
    "tot=0.\n",
    "small=0.\n",
    "for num in df.reset_index().groupby(lista)['index'].count().sort_values():\n",
    "    if num<20:\n",
    "        small +=num\n",
    "    tot += num\n",
    "\n",
    "print lista, \"\\n\"\n",
    "print \"bucket size:\",bucket_size, macro_fields\n",
    "print  \"# rows in df:\",tot, \"   # rows belowing to a too-small bucket:\",small, \"   \",small/tot*100,\"%\", \"\\n fraction from # rows with complete info:\", 100-small/cont_num_complete_rows*100,\"%\"\n",
    "\n",
    "\n",
    "\n",
    "# ['group_ranking30_University', 'Field', 'group_total_pubs', 'group_num_citations', 'group_num_papers_last'] \n",
    "\n",
    "# bucket size: 25 _macro_fields\n",
    "# # rows in df: 79948.0    # rows belowing to a too-small bucket: 4370.0     5.46605293441 % \n",
    "#  fraction from # rows with complete info: 94.5339470656 %\n",
    "\n",
    "\n",
    "\n",
    "\n",
    "\n",
    "# ['new_group_ranking30_University', 'new_Field', 'new_group_total_pubs', 'new_group_num_citations', 'new_group_num_papers_last'] \n",
    "\n",
    "# bucket size: 25 _macro_fields\n",
    "# # rows in df: 225002.0    # rows belowing to a too-small bucket: 4376.0     1.94487160114 % \n",
    "#  fraction from # rows with complete info: 94.5264421874 %\n"
   ]
  },
  {
   "cell_type": "code",
   "execution_count": null,
   "metadata": {
    "collapsed": false
   },
   "outputs": [],
   "source": [
    "# lista=[\"new_Field\",\"new_group_total_pubs\",\"new_group_num_citations\",\"new_group_num_papers_last\"]#,\"new_group_num_coauthors\"]\n",
    "\n",
    "# grouped=df.reset_index().groupby(lista)['index'].count().sort_values()"
   ]
  },
  {
   "cell_type": "code",
   "execution_count": 15,
   "metadata": {
    "collapsed": false
   },
   "outputs": [],
   "source": [
    "# df.reset_index().groupby(lista)['index'].count().sort_values()\n",
    "\n",
    "# for idx, value in grouped.iteritems():\n",
    "#     print idx, value\n",
    "#     raw_input()\n",
    "\n",
    "\n",
    "def grouper(grp):\n",
    "    return grp.values\n",
    "\n",
    "grouped=df.reset_index().groupby(lista)['index'].apply(grouper)"
   ]
  },
  {
   "cell_type": "code",
   "execution_count": 16,
   "metadata": {
    "collapsed": false,
    "scrolled": false
   },
   "outputs": [
    {
     "name": "stdout",
     "output_type": "stream",
     "text": [
      "tot # rows dropped: 4644\n",
      "4644 198515\n",
      "original df: (203159, 26)    df to keep: (198515, 26)\n",
      "written: /home/juliaponcela/at_NICO/Dropbox_collaboration_patterns/Data/Merged_LinkedIn_WoS/bucket_labels_and_sizes_subset_to_keep25_macro_fields.txt\n"
     ]
    }
   ],
   "source": [
    "list_indices_to_drop=[]\n",
    "list_indices_to_keep=[]\n",
    "\n",
    "\n",
    "\n",
    "filename=path_merge_linux+'bucket_labels_and_sizes_subset_to_keep'+str(bucket_size)+macro_fields+'.txt'\n",
    "    \n",
    "f = open(filename, 'wt')\n",
    "\n",
    "\n",
    "#### drop indices if observations fall in too-small a bucket\n",
    "for idx, value in grouped.iteritems():\n",
    "    value=list(value)  # because it is an array with all the indices corresponding to a given group\n",
    "    if len(value)<20:        \n",
    "        list_indices_to_drop.extend(value)\n",
    "        \n",
    "        #print list_indices_to_drop, len(list_indices_to_drop)\n",
    "        #raw_input()\n",
    "    else:\n",
    "        list_indices_to_keep.extend(value)\n",
    "#df.iloc[value]\n",
    "        print >> f, idx, len(value) #value, type(value),\n",
    "print \"tot # rows dropped:\", len(list_indices_to_drop)\n",
    "\n",
    "\n",
    "df_to_keep=df.iloc[list_indices_to_keep]\n",
    "print len(list_indices_to_drop), len(list_indices_to_keep)\n",
    "\n",
    "\n",
    "print \"original df:\",df.shape, \"   df to keep:\", df_to_keep.shape\n",
    "\n",
    "\n",
    "f.close()\n",
    "print \"written:\",filename"
   ]
  },
  {
   "cell_type": "code",
   "execution_count": 17,
   "metadata": {
    "collapsed": false
   },
   "outputs": [
    {
     "data": {
      "text/html": [
       "<div>\n",
       "<table border=\"1\" class=\"dataframe\">\n",
       "  <thead>\n",
       "    <tr style=\"text-align: right;\">\n",
       "      <th></th>\n",
       "      <th>full_name_linkedin</th>\n",
       "      <th>Email</th>\n",
       "      <th>University_linkedin</th>\n",
       "      <th>Field</th>\n",
       "      <th>ranking_University</th>\n",
       "      <th>group_ranking20_University</th>\n",
       "      <th>group_ranking30_University</th>\n",
       "      <th>group_ranking50_University</th>\n",
       "      <th>group_total_pubs</th>\n",
       "      <th>group_num_coauthors</th>\n",
       "      <th>...</th>\n",
       "      <th>new_ranking_University</th>\n",
       "      <th>new_group_ranking20_University</th>\n",
       "      <th>new_group_ranking30_University</th>\n",
       "      <th>new_group_ranking50_University</th>\n",
       "      <th>new_group_total_pubs</th>\n",
       "      <th>new_group_num_coauthors</th>\n",
       "      <th>new_group_num_papers_1st</th>\n",
       "      <th>new_group_num_papers_last</th>\n",
       "      <th>new_group_num_papers_solo</th>\n",
       "      <th>new_group_num_citations</th>\n",
       "    </tr>\n",
       "  </thead>\n",
       "  <tbody>\n",
       "    <tr>\n",
       "      <th>465</th>\n",
       "      <td>ruth bielfeldt</td>\n",
       "      <td>bielfeldt@lmu.de</td>\n",
       "      <td>Harvard University</td>\n",
       "      <td>art</td>\n",
       "      <td>1.0</td>\n",
       "      <td>1-20</td>\n",
       "      <td>1-30</td>\n",
       "      <td>1-50</td>\n",
       "      <td>NaN</td>\n",
       "      <td>NaN</td>\n",
       "      <td>...</td>\n",
       "      <td>1.0</td>\n",
       "      <td>1-20</td>\n",
       "      <td>1-30</td>\n",
       "      <td>1-50</td>\n",
       "      <td>-1</td>\n",
       "      <td>-1</td>\n",
       "      <td>-1</td>\n",
       "      <td>-1</td>\n",
       "      <td>-1</td>\n",
       "      <td>-1</td>\n",
       "    </tr>\n",
       "    <tr>\n",
       "      <th>469</th>\n",
       "      <td>ioli kalavrezou</td>\n",
       "      <td>kalavrez@fas.harvard.edu</td>\n",
       "      <td>Harvard University</td>\n",
       "      <td>art</td>\n",
       "      <td>1.0</td>\n",
       "      <td>1-20</td>\n",
       "      <td>1-30</td>\n",
       "      <td>1-50</td>\n",
       "      <td>NaN</td>\n",
       "      <td>NaN</td>\n",
       "      <td>...</td>\n",
       "      <td>1.0</td>\n",
       "      <td>1-20</td>\n",
       "      <td>1-30</td>\n",
       "      <td>1-50</td>\n",
       "      <td>-1</td>\n",
       "      <td>-1</td>\n",
       "      <td>-1</td>\n",
       "      <td>-1</td>\n",
       "      <td>-1</td>\n",
       "      <td>-1</td>\n",
       "    </tr>\n",
       "    <tr>\n",
       "      <th>472</th>\n",
       "      <td>ewa lajerburcharth</td>\n",
       "      <td>burchart@fas.harvard.edu</td>\n",
       "      <td>Harvard University</td>\n",
       "      <td>art</td>\n",
       "      <td>1.0</td>\n",
       "      <td>1-20</td>\n",
       "      <td>1-30</td>\n",
       "      <td>1-50</td>\n",
       "      <td>NaN</td>\n",
       "      <td>NaN</td>\n",
       "      <td>...</td>\n",
       "      <td>1.0</td>\n",
       "      <td>1-20</td>\n",
       "      <td>1-30</td>\n",
       "      <td>1-50</td>\n",
       "      <td>-1</td>\n",
       "      <td>-1</td>\n",
       "      <td>-1</td>\n",
       "      <td>-1</td>\n",
       "      <td>-1</td>\n",
       "      <td>-1</td>\n",
       "    </tr>\n",
       "    <tr>\n",
       "      <th>473</th>\n",
       "      <td>carrie lambertbeatty</td>\n",
       "      <td>lambert2@fas.harvard.edu</td>\n",
       "      <td>Harvard University</td>\n",
       "      <td>art</td>\n",
       "      <td>1.0</td>\n",
       "      <td>1-20</td>\n",
       "      <td>1-30</td>\n",
       "      <td>1-50</td>\n",
       "      <td>NaN</td>\n",
       "      <td>NaN</td>\n",
       "      <td>...</td>\n",
       "      <td>1.0</td>\n",
       "      <td>1-20</td>\n",
       "      <td>1-30</td>\n",
       "      <td>1-50</td>\n",
       "      <td>-1</td>\n",
       "      <td>-1</td>\n",
       "      <td>-1</td>\n",
       "      <td>-1</td>\n",
       "      <td>-1</td>\n",
       "      <td>-1</td>\n",
       "    </tr>\n",
       "    <tr>\n",
       "      <th>475</th>\n",
       "      <td>gulru necipoglu</td>\n",
       "      <td>agakhan@fas.harvard.edu</td>\n",
       "      <td>Harvard University</td>\n",
       "      <td>art</td>\n",
       "      <td>1.0</td>\n",
       "      <td>1-20</td>\n",
       "      <td>1-30</td>\n",
       "      <td>1-50</td>\n",
       "      <td>NaN</td>\n",
       "      <td>NaN</td>\n",
       "      <td>...</td>\n",
       "      <td>1.0</td>\n",
       "      <td>1-20</td>\n",
       "      <td>1-30</td>\n",
       "      <td>1-50</td>\n",
       "      <td>-1</td>\n",
       "      <td>-1</td>\n",
       "      <td>-1</td>\n",
       "      <td>-1</td>\n",
       "      <td>-1</td>\n",
       "      <td>-1</td>\n",
       "    </tr>\n",
       "  </tbody>\n",
       "</table>\n",
       "<p>5 rows × 26 columns</p>\n",
       "</div>"
      ],
      "text/plain": [
       "       full_name_linkedin                     Email University_linkedin Field  \\\n",
       "465        ruth bielfeldt          bielfeldt@lmu.de  Harvard University   art   \n",
       "469       ioli kalavrezou  kalavrez@fas.harvard.edu  Harvard University   art   \n",
       "472    ewa lajerburcharth  burchart@fas.harvard.edu  Harvard University   art   \n",
       "473  carrie lambertbeatty  lambert2@fas.harvard.edu  Harvard University   art   \n",
       "475       gulru necipoglu   agakhan@fas.harvard.edu  Harvard University   art   \n",
       "\n",
       "     ranking_University group_ranking20_University group_ranking30_University  \\\n",
       "465                 1.0                       1-20                       1-30   \n",
       "469                 1.0                       1-20                       1-30   \n",
       "472                 1.0                       1-20                       1-30   \n",
       "473                 1.0                       1-20                       1-30   \n",
       "475                 1.0                       1-20                       1-30   \n",
       "\n",
       "    group_ranking50_University group_total_pubs group_num_coauthors  \\\n",
       "465                       1-50              NaN                 NaN   \n",
       "469                       1-50              NaN                 NaN   \n",
       "472                       1-50              NaN                 NaN   \n",
       "473                       1-50              NaN                 NaN   \n",
       "475                       1-50              NaN                 NaN   \n",
       "\n",
       "              ...           new_ranking_University  \\\n",
       "465           ...                              1.0   \n",
       "469           ...                              1.0   \n",
       "472           ...                              1.0   \n",
       "473           ...                              1.0   \n",
       "475           ...                              1.0   \n",
       "\n",
       "    new_group_ranking20_University new_group_ranking30_University  \\\n",
       "465                           1-20                           1-30   \n",
       "469                           1-20                           1-30   \n",
       "472                           1-20                           1-30   \n",
       "473                           1-20                           1-30   \n",
       "475                           1-20                           1-30   \n",
       "\n",
       "    new_group_ranking50_University new_group_total_pubs  \\\n",
       "465                           1-50                   -1   \n",
       "469                           1-50                   -1   \n",
       "472                           1-50                   -1   \n",
       "473                           1-50                   -1   \n",
       "475                           1-50                   -1   \n",
       "\n",
       "    new_group_num_coauthors  new_group_num_papers_1st  \\\n",
       "465                      -1                        -1   \n",
       "469                      -1                        -1   \n",
       "472                      -1                        -1   \n",
       "473                      -1                        -1   \n",
       "475                      -1                        -1   \n",
       "\n",
       "    new_group_num_papers_last new_group_num_papers_solo  \\\n",
       "465                        -1                        -1   \n",
       "469                        -1                        -1   \n",
       "472                        -1                        -1   \n",
       "473                        -1                        -1   \n",
       "475                        -1                        -1   \n",
       "\n",
       "    new_group_num_citations  \n",
       "465                      -1  \n",
       "469                      -1  \n",
       "472                      -1  \n",
       "473                      -1  \n",
       "475                      -1  \n",
       "\n",
       "[5 rows x 26 columns]"
      ]
     },
     "execution_count": 17,
     "metadata": {},
     "output_type": "execute_result"
    }
   ],
   "source": [
    "df_to_keep.head()"
   ]
  },
  {
   "cell_type": "code",
   "execution_count": 18,
   "metadata": {
    "collapsed": false,
    "scrolled": true
   },
   "outputs": [
    {
     "name": "stdout",
     "output_type": "stream",
     "text": [
      "84\n"
     ]
    },
    {
     "data": {
      "text/plain": [
       "<matplotlib.axes._subplots.AxesSubplot at 0x7fe967323990>"
      ]
     },
     "execution_count": 18,
     "metadata": {},
     "output_type": "execute_result"
    },
    {
     "data": {
      "image/png": "[encoded data removed]",
      "text/plain": [
       "<matplotlib.figure.Figure at 0x7fe969c29f90>"
      ]
     },
     "metadata": {},
     "output_type": "display_data"
    }
   ],
   "source": [
    "df_to_drop=df.iloc[list_indices_to_drop]\n",
    "#lista=df_to_drop.groupby(\"University_linkedin\").size().values\n",
    "lista=df_to_drop.sort_values(by=\"University_linkedin\").groupby(\"University_linkedin\").size()\n",
    "\n",
    "print len(df_to_drop.University_linkedin.unique())\n",
    "\n",
    "lista.plot(kind='bar',fontsize = 'xx-small')"
   ]
  },
  {
   "cell_type": "code",
   "execution_count": 19,
   "metadata": {
    "collapsed": false,
    "scrolled": true
   },
   "outputs": [
    {
     "data": {
      "text/plain": [
       "University_linkedin\n",
       "Rockefeller University                          79\n",
       "Georgetown University                          262\n",
       "California Institute of Technology             364\n",
       "University of Colorado                         389\n",
       "Rensselaer Polytechnic Institute               453\n",
       "Stony Brook University                         480\n",
       "University of Rochester                        644\n",
       "Colorado State University                      659\n",
       "Emory University                               688\n",
       "University of California Santa Cruz            728\n",
       "Case Western Reserve University                748\n",
       "University of Alabama                          813\n",
       "Dartmouth College                              838\n",
       "Vanderbilt University                          891\n",
       "Tufts University                               912\n",
       "University of California Riverside             915\n",
       "University of Vermont                          918\n",
       "University of South Florida                   1001\n",
       "University of Massachusetts                   1008\n",
       "Princeton University                          1038\n",
       "University of Notre Dame                      1074\n",
       "University of New Hampshire                   1104\n",
       "University of California Santa Barbara        1106\n",
       "George Washington University                  1123\n",
       "Georgia Institute of Technology               1186\n",
       "Northeastern University                       1193\n",
       "Oregon Health & Science University            1256\n",
       "Boston University                             1276\n",
       "University of Miami                           1281\n",
       "University of Houston                         1294\n",
       "                                              ... \n",
       "University of Connecticut                     2400\n",
       "Iowa State University                         2415\n",
       "Johns Hopkins University                      2438\n",
       "North Carolina State University               2456\n",
       "University of California San Diego            2549\n",
       "Yeshiva University                            2600\n",
       "University of Minnesota                       2626\n",
       "University of Florida                         2726\n",
       "University of georgia                         2760\n",
       "University of North Carolina Chapel Hill      2817\n",
       "Columbia University                           2904\n",
       "University Of Utah                            2909\n",
       "University of California Berkeley             2962\n",
       "University Of Wisconsin Madison               3028\n",
       "University of Arizona                         3035\n",
       "University of California Los Angeles          3127\n",
       "Rutgers The State University of New Jersey    3139\n",
       "Cornell University                            3406\n",
       "University of Pittsburgh                      3411\n",
       "Pennsylvania State University                 3618\n",
       "Washington University Saint Louis             3624\n",
       "Yale University                               3633\n",
       "Texas A&M University                          3846\n",
       "Ohio State University                         4071\n",
       "University of Washington                      4134\n",
       "University of Pennsylvania                    4193\n",
       "Purdue University                             4451\n",
       "The University of Texas at Austin             4794\n",
       "University of Southern California             5428\n",
       "Northwestern University                       5472\n",
       "dtype: int64"
      ]
     },
     "execution_count": 19,
     "metadata": {},
     "output_type": "execute_result"
    }
   ],
   "source": [
    "df_to_keep.groupby(\"University_linkedin\").size().sort_values()"
   ]
  },
  {
   "cell_type": "code",
   "execution_count": 20,
   "metadata": {
    "collapsed": false
   },
   "outputs": [
    {
     "name": "stdout",
     "output_type": "stream",
     "text": [
      "double checking that there are no small buckets now:\n",
      "['new_group_ranking30_University', 'new_Field', 'new_group_total_pubs', 'new_group_num_citations', 'new_group_num_papers_last'] \n",
      "\n",
      "bucket size: 25 _macro_fields\n",
      "# rows: 198515.0    # rows belowing to a too-small bucket: 0.0     0.0 %\n",
      "\n",
      "100\n"
     ]
    }
   ],
   "source": [
    "## just to check that i dont need to drop any more observations\n",
    "\n",
    "lista=[\"new_group_ranking30_University\",\"new_Field\",\"new_group_total_pubs\",\"new_group_num_citations\",\"new_group_num_papers_last\"]#,\"new_group_num_coauthors\"]\n",
    "print \"double checking that there are no small buckets now:\"\n",
    "\n",
    "list_tuplas_values=[]\n",
    "tot=0.\n",
    "small=0.\n",
    "for num in df_to_keep.reset_index().groupby(lista)['index'].count().sort_values():\n",
    "    if num<20:\n",
    "        small +=num\n",
    "    tot += num\n",
    "df = df.reset_index(drop=True)\n",
    "print lista, \"\\n\"\n",
    "print \"bucket size:\",bucket_size, macro_fields\n",
    "print  \"# rows:\",tot, \"   # rows belowing to a too-small bucket:\",small, \"   \",small/tot*100,\"%\\n\"\n",
    "\n",
    "list_indices_to_keep=list(set(list_indices_to_keep))\n",
    "\n",
    "\n",
    "\n",
    "print len(df.University_linkedin.unique())"
   ]
  },
  {
   "cell_type": "code",
   "execution_count": 21,
   "metadata": {
    "collapsed": false,
    "scrolled": true
   },
   "outputs": [
    {
     "name": "stdout",
     "output_type": "stream",
     "text": [
      "100\n",
      "Arizona State University ---- Baylor College of Medicine ---- Boston University ---- Brown University ---- California Institute of Technology ---- Carnegie Mellon University ---- Case Western Reserve University ---- City University of New York ---- Colorado State University ---- Columbia University ---- Cornell University ---- Dartmouth College ---- Drexel University ---- Duke University ---- Emory University ---- Florida State University ---- George Washington University ---- Georgetown University ---- Georgia Institute of Technology ---- Harvard University ---- Indiana University Bloomington ---- Iowa State University ---- Johns Hopkins University ---- M D Anderson Cancer Center University of Texas ---- Massachusetts Institute of Technology ---- Michigan State University ---- New York University ---- North Carolina State University ---- Northeastern University ---- Northwestern University ---- Ohio State University ---- Oregon Health & Science University ---- Oregon State University ---- Pennsylvania State University ---- Princeton University ---- Purdue University ---- Rensselaer Polytechnic Institute ---- Rice University ---- Rockefeller University ---- Rutgers The State University of New Jersey ---- Stanford University ---- Stony Brook University ---- Syracuse University ---- Temple University ---- Texas A&M University ---- The University of Tennessee, Knoxville ---- The University of Texas at Austin ---- Tufts University ---- University Of Utah ---- University Of Wisconsin Madison ---- University at Buffalo ---- University of Alabama ---- University of Arizona ---- University of Arkansas ---- University of California Berkeley ---- University of California Davis ---- University of California Irvine ---- University of California Los Angeles ---- University of California Riverside ---- University of California San Diego ---- University of California San Francisco ---- University of California Santa Barbara ---- University of California Santa Cruz ---- University of Central Florida ---- University of Chicago ---- University of Cincinnati ---- University of Colorado ---- University of Connecticut ---- University of Delaware ---- University of Florida ---- University of Hawaii ---- University of Houston ---- University of Illinois Chicago ---- University of Illinois Urbana Champaign ---- University of Iowa ---- University of Kansas ---- University of Maryland ---- University of Massachusetts ---- University of Miami ---- University of Michigan ---- University of Minnesota ---- University of Nebraska ---- University of New Hampshire ---- University of New Mexico ---- University of North Carolina Chapel Hill ---- University of Notre Dame ---- University of Pennsylvania ---- University of Pittsburgh ---- University of Rochester ---- University of South Florida ---- University of Southern California ---- University of Vermont ---- University of Virginia ---- University of Washington ---- University of georgia ---- Vanderbilt University ---- Virginia Polytechnic Institute and State University ---- Washington University Saint Louis ---- Yale University ---- Yeshiva University ----\n"
     ]
    }
   ],
   "source": [
    "print len(df_to_keep.University_linkedin.unique())\n",
    "for item in sorted(list(df_to_keep.University_linkedin.unique())):\n",
    "    print item,\"----\",\n"
   ]
  },
  {
   "cell_type": "code",
   "execution_count": 22,
   "metadata": {
    "collapsed": false
   },
   "outputs": [
    {
     "name": "stdout",
     "output_type": "stream",
     "text": [
      "number of rows with WoS info 70390.0\n"
     ]
    }
   ],
   "source": [
    "# df.groupby('ranking_University').size()\n",
    "num_complete_rows =0.\n",
    "for item in pd.isnull(df_to_keep['group_total_pubs']):\n",
    "    if item ==False:\n",
    "        num_complete_rows +=1\n",
    "print  \"number of rows with WoS info\",num_complete_rows"
   ]
  },
  {
   "cell_type": "code",
   "execution_count": 23,
   "metadata": {
    "collapsed": false
   },
   "outputs": [
    {
     "name": "stdout",
     "output_type": "stream",
     "text": [
      "(198515, 26) # rows with email: 198515.0\n"
     ]
    }
   ],
   "source": [
    "# df.groupby('ranking_University').size()\n",
    "cont_num_complete_rows =0.\n",
    "for item in pd.isnull(df_to_keep['Email']):\n",
    "    if item ==False: \n",
    "        cont_num_complete_rows +=1\n",
    "print  df_to_keep.shape, \"# rows with email:\",cont_num_complete_rows"
   ]
  },
  {
   "cell_type": "code",
   "execution_count": 24,
   "metadata": {
    "collapsed": false,
    "scrolled": true
   },
   "outputs": [
    {
     "name": "stdout",
     "output_type": "stream",
     "text": [
      "CPU times: user 1.45 s, sys: 116 ms, total: 1.56 s\n",
      "Wall time: 1.87 s\n",
      "pickle done: /home/juliaponcela/at_NICO/Dropbox_collaboration_patterns/Data/Merged_LinkedIn_WoS/Merged_linkedin-WoS_GS_extra70univ_anonymized_groups_for_Dropbox_binSize25_macro_fields_no_small_buckets.pickle\n",
      "CPU times: user 1min 27s, sys: 544 ms, total: 1min 27s\n",
      "Wall time: 1min 26s\n",
      "xlsx done /home/juliaponcela/at_NICO/Dropbox_collaboration_patterns/Data/Merged_LinkedIn_WoS/Merged_linkedin-WoS_GS_extra70univ_anonymized_groups_for_Dropbox_binSize25_macro_fields_no_small_buckets.xlsx\n"
     ]
    }
   ],
   "source": [
    "filename=path_merge_linux+\"Merged_linkedin-WoS_GS_extra70univ_anonymized_groups_for_Dropbox_binSize\"+str(bucket_size)+macro_fields+\"_no_small_buckets.xlsx\"\n",
    "\n",
    "\n",
    "                                   \n",
    "%time df_to_keep.to_pickle(filename.split(\".xlsx\")[0]+\".pickle\")\n",
    "print \"pickle done:\", filename.split(\".xlsx\")[0]+\".pickle\"\n",
    "\n",
    "\n",
    "\n",
    "writer = pd.ExcelWriter(filename, engine='xlsxwriter',options={'strings_to_urls': False})\n",
    "# Convert the dataframe to an XlsxWriter Excel object.\n",
    "%time df_to_keep.to_excel(writer, sheet_name='Sheet1')\n",
    "## OJO! hay url muy largas que hacen que el sistema se cuelgue (solucion: no permitirle que las considere url, sino simplemente str)\n",
    "\n",
    "# Close the Pandas Excel writer and output the Excel file.\n",
    "writer.save()\n",
    "\n",
    "print \"xlsx done\",filename"
   ]
  },
  {
   "cell_type": "code",
   "execution_count": 25,
   "metadata": {
    "collapsed": false
   },
   "outputs": [
    {
     "data": {
      "text/plain": [
       "Index([            u'full_name_linkedin',                          u'Email',\n",
       "                  u'University_linkedin',                          u'Field',\n",
       "                   u'ranking_University',     u'group_ranking20_University',\n",
       "           u'group_ranking30_University',     u'group_ranking50_University',\n",
       "                     u'group_total_pubs',            u'group_num_coauthors',\n",
       "                 u'group_num_papers_1st',          u'group_num_papers_last',\n",
       "                u'group_num_papers_solo',            u'group_num_citations',\n",
       "              u'new_University_linkedin',                      u'new_Field',\n",
       "               u'new_ranking_University', u'new_group_ranking20_University',\n",
       "       u'new_group_ranking30_University', u'new_group_ranking50_University',\n",
       "                 u'new_group_total_pubs',        u'new_group_num_coauthors',\n",
       "             u'new_group_num_papers_1st',      u'new_group_num_papers_last',\n",
       "            u'new_group_num_papers_solo',        u'new_group_num_citations'],\n",
       "      dtype='object')"
      ]
     },
     "execution_count": 25,
     "metadata": {},
     "output_type": "execute_result"
    }
   ],
   "source": [
    "df_to_keep.columns"
   ]
  },
  {
   "cell_type": "code",
   "execution_count": 26,
   "metadata": {
    "collapsed": false
   },
   "outputs": [
    {
     "name": "stdout",
     "output_type": "stream",
     "text": [
      "(70390, 5)\n"
     ]
    }
   ],
   "source": [
    "df_complete_info=df_to_keep[['full_name_linkedin','University_linkedin', 'group_total_pubs','group_num_citations','new_group_num_papers_last']].dropna(how='any')  # by default, dropna drops a row if ANY  of the indicated fields are missing (i can also set it to if ALL the fields are missing: how='all')\n",
    "print df_complete_info.shape\n",
    "\n",
    "\n",
    "\n"
   ]
  },
  {
   "cell_type": "code",
   "execution_count": null,
   "metadata": {
    "collapsed": false,
    "scrolled": true
   },
   "outputs": [],
   "source": [
    "\n",
    "## lista=[\"new_group_total_pubs\",\"new_group_num_coauthors\",\"new_group_num_papers_1st\",\"new_group_num_papers_last\",\"new_group_num_papers_solo\",\"new_group_num_citations\"]\n",
    "\n",
    "# lista=[\"new_University_linkedin\",\"new_Field\",\"new_group_total_pubs\",\"new_group_num_citations\",\"new_group_num_papers_last\"]\n",
    "# lista=[\"new_Field\",\"new_group_total_pubs\",\"new_group_num_citations\",\"new_group_num_papers_last\",\"new_group_num_papers_1st\",\"new_group_num_papers_solo\"]\n",
    "\n",
    "# df.reset_index().groupby(lista)['index'].count().sort_values()"
   ]
  },
  {
   "cell_type": "code",
   "execution_count": null,
   "metadata": {
    "collapsed": false
   },
   "outputs": [],
   "source": [
    "df_to_keep.shape"
   ]
  },
  {
   "cell_type": "code",
   "execution_count": null,
   "metadata": {
    "collapsed": true
   },
   "outputs": [],
   "source": []
  },
  {
   "cell_type": "code",
   "execution_count": null,
   "metadata": {
    "collapsed": false,
    "scrolled": true
   },
   "outputs": [],
   "source": [
    "# #df.reset_index().groupby([\"new_group_num_papers_1st\",\"new_ranking_University\"])['index'].count().sort_values()\n",
    "# #df.reset_index().groupby([\"group_num_papers_1st\",\"ranking_University\"])['index'].count().sort_values()\n",
    "\n",
    "# #lista=[\"group_num_papers_1st\",\"ranking_University\"]\n",
    "# lista=[\"new_group_num_papers_1st\",\"new_ranking_University\"]\n",
    "\n",
    "\n",
    "# tot=0.\n",
    "# small=0.\n",
    "# for num in df.reset_index().groupby(lista)['index'].count().sort_values():\n",
    "#     if num<20:\n",
    "#         small +=num\n",
    "#     tot += num\n",
    "\n",
    "# print lista    \n",
    "# print  \"# rows with values in all:\",tot, \"   # rows belowing to too-small buckets:\",small, \"   \",small/tot,\"\\n\""
   ]
  },
  {
   "cell_type": "code",
   "execution_count": null,
   "metadata": {
    "collapsed": true
   },
   "outputs": [],
   "source": [
    "\n",
    "##############################\n",
    "########## percentage (calculated on the df without NANs)\n",
    "\n",
    "####  ['new_Field', 'new_group_total_pubs', 'new_group_num_citations', 'new_group_num_papers_last'] \n",
    "####  bucket size: 25 _macro_fields\n",
    "####  rows: 225004.0    # rows belowing to a too-small bucket: 1016.0     0.451547528044 %\n",
    "\n",
    "\n",
    "\n",
    "####  ['new_Field', 'new_group_total_pubs', 'new_group_num_citations', 'new_group_num_papers_last'] \n",
    "####  bucket size: 250 \n",
    "####  rows: 225004.0    # rows belowing to a too-small bucket: 5498.0     2.44351211534 %\n",
    "\n",
    "\n",
    "####  ['new_Field', 'new_group_total_pubs', 'new_group_num_citations', 'new_group_num_papers_last'] \n",
    "####  bucket size: 25 \n",
    "####  rows: 225004.0    # rows belowing to a too-small bucket: 5498.0     2.44351211534 %\n",
    "\n",
    "\n",
    "####  ['new_Field', 'new_group_total_pubs', 'new_group_num_citations', 'new_group_num_papers_last'] \n",
    "####  bucket size: 250 _macro_fields\n",
    "####  rows: 225004.0    # rows belowing to a too-small bucket: 987.0     0.438658868287 %\n",
    "\n",
    "\n",
    "\n",
    "\n",
    "####  ['new_Field', 'new_group_total_pubs', 'new_group_num_citations', 'new_group_num_papers_last', 'new_group_num_papers_1st', 'new_group_num_papers_solo'] \n",
    "\n",
    "####  bucket size: 250 _macro_fieldscual dirias t'u que va a ser el impact factor de Science Advances...? gracias! :)\n",
    "####  rows: 225004.0    # rows belowing to a too-small bucket: 4630.0     2.05774119571 %\n",
    "\n",
    "\n",
    "\n",
    "\n",
    "####  ['new_Field', 'new_group_total_pubs', 'new_group_num_citations', 'new_group_num_papers_last', 'new_group_num_papers_1st'] \n",
    "\n",
    "####  bucket size: 250 _macro_fields\n",
    "####   rows: 225004.0    # rows belowing to a too-small bucket: 3499.0     1.55508346518 %\n",
    "\n",
    "\n",
    "\n",
    "########################################\n",
    "########## percentage (calculated on the df without NANs)\n",
    "\n",
    "####  ['new_Field', 'new_group_total_pubs', 'new_group_num_citations', 'new_group_num_papers_last'] \n",
    "####  bucket size: 25 _macro_fields\n",
    "####  rows: 79948.0    # rows belowing to a too-small bucket: 1016.0     1.27082603692 %\n",
    "\n",
    "####  ['new_Field', 'new_group_total_pubs', 'new_group_num_citations', 'new_group_num_papers_last'] \n",
    "####  bucket size: 250 \n",
    "####  rows: 79948.0    # rows belowing to a too-small bucket: 5498.0     6.87697003052 %\n",
    "\n",
    "####  ['new_Field', 'new_group_total_pubs', 'new_group_num_citations', 'new_group_num_papers_last'] \n",
    "####  bucket size: 25 \n",
    "####  rows: 79948.0    # rows belowing to a too-small bucket: 5498.0     6.87697003052 %\n",
    "\n",
    "####  ['new_Field', 'new_group_total_pubs', 'new_group_num_citations', 'new_group_num_papers_last'] \n",
    "####  bucket size: 250 _macro_fields\n",
    "####  rows: 79948.0    # rows belowing to a too-small bucket: 987.0     1.2345524591 %\n",
    "\n",
    "\n",
    "\n",
    "##########################################\n",
    "\n",
    "\n",
    "####  ['new_University_linkedin', 'Field', 'group_total_pubs', 'group_num_citations', 'group_num_papers_last'] \n",
    "\n",
    "####  bucket size: 250 _macro_fields\n",
    "####  rows: 79948.0    # rows belowing to a too-small bucket: 42682.0     53.3872016811 %\n",
    "\n",
    "\n",
    "\n",
    "##########   6 new_Field  new_group_total_pubs  new_group_num_papers_1st  new_group_num_papers_last  new_group_num_papers_solo  new_group_num_citations  ---> 0.0205774119571 4630.0 225004.0"
   ]
  },
  {
   "cell_type": "code",
   "execution_count": null,
   "metadata": {
    "collapsed": true
   },
   "outputs": [],
   "source": [
    "# Drexel University   \n",
    "# Georgetown University  \n",
    "# Temple University    \n",
    "# University of Vermont  \n",
    "# University of Texas San Antonio\n",
    "# University of Texas Southwestern Medical Center at Dallas\n",
    "# Dartmouth College\n",
    "# Purdue University\n",
    "# Rensselaer Polytechnic Institute\n",
    "# North Carolina State University\n",
    "# University of Connecticut\n",
    "# Virginia Polytechnic Institute and State University\n",
    "# University of New Mexico\n",
    "# University of New Hampshire\n",
    "# University of Central Florida\n",
    "# Syracuse University\n",
    "# University of Kansas\n",
    "# Georgia State University\n"
   ]
  },
  {
   "cell_type": "code",
   "execution_count": null,
   "metadata": {
    "collapsed": true
   },
   "outputs": [],
   "source": []
  },
  {
   "cell_type": "code",
   "execution_count": null,
   "metadata": {
    "collapsed": true
   },
   "outputs": [],
   "source": []
  }
 ],
 "metadata": {
  "anaconda-cloud": {},
  "kernelspec": {
   "display_name": "Python [conda root]",
   "language": "python",
   "name": "conda-root-py"
  },
  "language_info": {
   "codemirror_mode": {
    "name": "ipython",
    "version": 2
   },
   "file_extension": ".py",
   "mimetype": "text/x-python",
   "name": "python",
   "nbconvert_exporter": "python",
   "pygments_lexer": "ipython2",
   "version": "2.7.12"
  }
 },
 "nbformat": 4,
 "nbformat_minor": 1
}
