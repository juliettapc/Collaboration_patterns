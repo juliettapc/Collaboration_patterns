{
 "cells": [
  {
   "cell_type": "code",
   "execution_count": 1,
   "metadata": {
    "collapsed": false
   },
   "outputs": [
    {
     "data": {
      "text/html": [
       "<style>.container { width:100% !important; }</style>"
      ],
      "text/plain": [
       "<IPython.core.display.HTML object>"
      ]
     },
     "metadata": {},
     "output_type": "display_data"
    }
   ],
   "source": [
    "%matplotlib inline  \n",
    "import matplotlib.pyplot as plt   \n",
    "import pandas as pd\n",
    "import random\n",
    "import numpy as np\n",
    "from tqdm import tqdm\n",
    "from tqdm import tnrange, tqdm_notebook\n",
    "from time import sleep\n",
    "import scipy\n",
    "import operator\n",
    "import difflib\n",
    "import math\n",
    "\n",
    "from IPython.core.display import display,HTML\n",
    "display(HTML(\"<style>.container { width:100% !important; }</style>\"))  # to make the notebook use the entire width of the browser\n",
    "\n",
    "\n",
    "\n",
    "try:\n",
    "    import cPickle as pickle  ##################################\n",
    "   #it is faster than pickle!\n",
    "except:\n",
    "    import pickle\n",
    "    \n",
    "import unicodedata\n",
    "import networkx as nx\n",
    "import itertools\n",
    "#import seaborn as sns   ### https://seaborn.pydata.org/tutorial/categorical.html\n",
    "import time  \n",
    "\n",
    "\n",
    "import sys\n",
    "\n",
    "import plotly.plotly as py\n",
    "import plotly.graph_objs as go\n",
    "\n",
    "#i only need my credentials if i want to plot online --- and send plots to server (limits per day apply!)\n",
    "import plotly.tools as tls\n",
    "tls.set_credentials_file(username='juliettapc', api_key='deyNIvtOoDZ5PLmrHlhd')  # my plotly account credentials\n",
    "\n",
    "\n",
    "#import pygraphviz\n",
    "#from networkx.drawing.nx_agraph import graphviz_layout\n",
    "\n",
    "\n",
    "\n",
    "\n",
    "########## to be able to plot offline (without sending the plots to the plotly server every time)\n",
    "import plotly.offline as offline\n",
    "from plotly.graph_objs import *\n",
    "from plotly.offline import download_plotlyjs, init_notebook_mode, plot, iplot\n",
    "\n",
    "init_notebook_mode(connected=True)\n",
    "################\n",
    "\n",
    "\n",
    "\n",
    "# ##### for getting geolocation data  and to calculate distance between two geolocations\n",
    "# import requests\n",
    "# import json\n",
    "#import geopy.distance   \n"
   ]
  },
  {
   "cell_type": "code",
   "execution_count": 113,
   "metadata": {
    "collapsed": false
   },
   "outputs": [
    {
     "data": {
      "text/html": [
       "<script>requirejs.config({paths: { 'plotly': ['https://cdn.plot.ly/plotly-latest.min']},});if(!window.Plotly) {{require(['plotly'],function(plotly) {window.Plotly=plotly;});}}</script>"
      ],
      "text/plain": [
       "<IPython.core.display.HTML object>"
      ]
     },
     "metadata": {},
     "output_type": "display_data"
    }
   ],
   "source": []
  },
  {
   "cell_type": "code",
   "execution_count": 2,
   "metadata": {
    "collapsed": false
   },
   "outputs": [
    {
     "name": "stdout",
     "output_type": "stream",
     "text": [
      "num. users: 438284\n",
      "num. folders: 519045\n",
      "num. users: (438300, 15)\n",
      "num. users: 400000 (5992006, 7)\n"
     ]
    }
   ],
   "source": [
    "\n",
    "# ######## load dictionaries for user: list_folders, and folder: list_users\n",
    "pickle_name='/home/juliaponcela/at_NICO/Dropbox_collaboration_patterns/Results/dict_user_id_list_folders_COMPLETE.pickle'\n",
    "with open(pickle_name, 'rb') as handle:\n",
    "    dict_user_id_list_folders = pickle.load(handle)\n",
    "print \"num. users:\",len(dict_user_id_list_folders)\n",
    "\n",
    "\n",
    "\n",
    "\n",
    "pickle_name='/home/juliaponcela/at_NICO/Dropbox_collaboration_patterns/Results/dict_folder_id_list_users_COMPLETE.pickle'\n",
    "with open(pickle_name, 'rb') as handle:\n",
    "    dict_folder_id_list_users = pickle.load(handle)\n",
    "print \"num. folders:\",len(dict_folder_id_list_users)\n",
    "#######################################################\n",
    "\n",
    "\n",
    "\n",
    "\n",
    "\n",
    "# # #######   dict user: number tot act\n",
    "# # pickle_name='/home/juliaponcela/at_NICO/Dropbox_collaboration_patterns/Results/dict_user_id_tot_act_PARTIAL.pickle'\n",
    "# # with open(pickle_name, 'rb') as handle:\n",
    "# #     dict_user_id_tot_act = pickle.load(handle)\n",
    "# # print \"num. users:\",len(dict_user_id_tot_act)\n",
    "# # #####################################################\n",
    "\n",
    "\n",
    "\n",
    "\n",
    "########  csv  users basic attr\n",
    "path = \"/home/juliaponcela/at_NICO/Dropbox_collaboration_patterns/Data/Dropbox/\"\n",
    "input_file = 'new_DROPBOX_basic_user_attr.csv'\n",
    "df_user_basic_attr = pd.read_csv(path+input_file, sep=';',na_values=[\"NAN\",\"-1\",\"null\"]) # set header=0 if i wanna pass it my own list of header names\n",
    "df_user_basic_attr.drop('Unnamed: 0', axis=1, inplace=True)\n",
    "print \"num. users:\",df_user_basic_attr.shape\n",
    "\n",
    "\n",
    "\n",
    "\n",
    "\n",
    "#########  csv  all act aggr by date\n",
    "path = \"/home/juliaponcela/at_NICO/Dropbox_collaboration_patterns/Data/Dropbox/\"\n",
    "input_file = 'DROPBOX_only_activity_aggr_by_date_COMPLETE.csv'\n",
    "%time df_all_act = pd.read_csv(path+input_file, sep=',',na_values=[\"NAN\",\"NaN\",\"nan\",\"-1\",\"null\",\"\"], parse_dates=['folder_creation_date','date']) \n",
    "df_all_act.drop('Unnamed: 0', axis=1, inplace=True)\n",
    "print \"num. users:\",len(df_all_act.user_id.unique()),df_all_act.shape    # 400000   (5992006, 7)\n",
    "                   \n",
    "#df_all_act=df_all_act[df_all_act['date'] != \"nan\"]  # for some reason, the nans, are interpreted as str  :()   #df_all_act[df_all_act.date.notnull()]    \n",
    "\n",
    "\n",
    "df_all_act=df_all_act.replace('nan', np.nan)  ## for some reason, there are diff nomenclatures for NANs, and it is not interpreting them correctly when reading the file \n",
    "df_all_act=df_all_act.replace('NAN', np.nan)\n",
    "df_all_act=df_all_act.replace('NaN', np.nan)\n",
    "df_all_act=df_all_act.replace('-1', np.nan)\n",
    "df_all_act=df_all_act.replace('', np.nan)\n",
    "\n",
    "\n",
    "df_all_act= df_all_act[df_all_act.date.notnull()]    \n",
    "print \"after removing rows without dates:\\nnum. users:\",len(df_all_act.user_id.unique()),df_all_act.shape    # 400000  (5141758, 7)\n"
   ]
  },
  {
   "cell_type": "code",
   "execution_count": null,
   "metadata": {
    "collapsed": false
   },
   "outputs": [],
   "source": []
  },
  {
   "cell_type": "code",
   "execution_count": 60,
   "metadata": {
    "collapsed": false,
    "scrolled": true
   },
   "outputs": [
    {
     "name": "stdout",
     "output_type": "stream",
     "text": [
      "\n"
     ]
    },
    {
     "name": "stderr",
     "output_type": "stream",
     "text": [
      "Exception in thread Thread-4:\n",
      "Traceback (most recent call last):\n",
      "  File \"/home/juliaponcela/anaconda2/lib/python2.7/threading.py\", line 801, in __bootstrap_inner\n",
      "    self.run()\n",
      "  File \"/home/juliaponcela/anaconda2/lib/python2.7/site-packages/tqdm/_tqdm.py\", line 103, in run\n",
      "    for instance in self.tqdm_cls._instances:\n",
      "  File \"/home/juliaponcela/anaconda2/lib/python2.7/_weakrefset.py\", line 60, in __iter__\n",
      "    for itemref in self.data:\n",
      "RuntimeError: Set changed size during iteration\n",
      "\n"
     ]
    },
    {
     "name": "stdout",
     "output_type": "stream",
     "text": [
      "done\n",
      "written: /home/juliaponcela/at_NICO/Dropbox_collaboration_patterns/Results/dict_folder_id_alternation_PARTIAL.pickle\n"
     ]
    }
   ],
   "source": [
    "\n",
    "def get_alternation(df_select, folder_id, list_users):  # df_select is for a given folder_id, sorted by date and excluding entries without a date (== for users without actual act)\n",
    "    \n",
    "#     print folder_id\n",
    "#     print list_users\n",
    "#     print df_select\n",
    "    \n",
    "    cont_alternating_person=0.\n",
    "    old_person=0\n",
    "    list_users_in_order_of_activity=df_select.user_id.values\n",
    "    #print list_users_in_order_of_activity\n",
    "    if len(set(list_users_in_order_of_activity))>1:  # more than one user\n",
    "        for i in range(len(list_users_in_order_of_activity)) :\n",
    "\n",
    "            person=list_users_in_order_of_activity[i]\n",
    "            if i >0:\n",
    "                if person != old_person:\n",
    "                    cont_alternating_person +=1.\n",
    "            old_person = person            \n",
    "\n",
    "    \n",
    "        norm=float(len(list_users_in_order_of_activity)-1.)\n",
    "        alt=cont_alternating_person/norm\n",
    "       # print \"cont_alt:\",cont_alternating_person, \"  num_events-1:\",norm, \"  alt:\",alt   \n",
    "    else:\n",
    "        alt=np.nan\n",
    "      # print \"  alt:\",alt, \" only one user\"   \n",
    "    \n",
    "   \n",
    "    return alt\n",
    "    \n",
    "    \n",
    "#############################################\n",
    "#############################################\n",
    "\n",
    "\n",
    "\n",
    "\n",
    "dict_folder_id_alternation={}\n",
    "\n",
    "for folder_id in tqdm_notebook(dict_folder_id_list_users.keys()):\n",
    "    \n",
    "    if len(dict_folder_id_list_users[folder_id])>1: # two or more members:\n",
    "        df_select=df_all_act[df_all_act['folder_id'] == folder_id].sort_values(by=['date'])\n",
    "    \n",
    "        if len(df_select) >1:  # more than one record\n",
    "            list_users=dict_folder_id_list_users[folder_id]\n",
    "        \n",
    "            dict_folder_id_alternation[folder_id]=get_alternation(df_select, folder_id, list_users)    \n",
    "    \n",
    "        else:\n",
    "            dict_folder_id_alternation[folder_id]=np.nan\n",
    "    else:\n",
    "        dict_folder_id_alternation[folder_id]=np.nan\n",
    "       \n",
    "\n",
    "    \n",
    "    \n",
    "    \n",
    "print \"done\"    \n",
    "        \n",
    "###########################################\n",
    "\n",
    "pickle_name='/home/juliaponcela/at_NICO/Dropbox_collaboration_patterns/Results/dict_folder_id_alternation_PARTIAL.pickle'\n",
    "with open(pickle_name, 'wb') as handle:\n",
    "    pickle.dump(dict_folder_id_alternation, handle)\n",
    "print \"written:\", pickle_name\n",
    "    \n",
    "    "
   ]
  },
  {
   "cell_type": "code",
   "execution_count": 132,
   "metadata": {
    "collapsed": false
   },
   "outputs": [],
   "source": [
    "# for folder_id in dict_folder_id_alternation:\n",
    "#     print folder_id, dict_folder_id_alternation[folder_id]"
   ]
  },
  {
   "cell_type": "code",
   "execution_count": null,
   "metadata": {
    "collapsed": false,
    "scrolled": true
   },
   "outputs": [],
   "source": []
  },
  {
   "cell_type": "code",
   "execution_count": null,
   "metadata": {
    "collapsed": false
   },
   "outputs": [],
   "source": []
  },
  {
   "cell_type": "code",
   "execution_count": null,
   "metadata": {
    "collapsed": false
   },
   "outputs": [],
   "source": []
  },
  {
   "cell_type": "code",
   "execution_count": null,
   "metadata": {
    "collapsed": false,
    "scrolled": true
   },
   "outputs": [],
   "source": []
  },
  {
   "cell_type": "code",
   "execution_count": 131,
   "metadata": {
    "collapsed": false,
    "scrolled": false
   },
   "outputs": [],
   "source": [
    "# df_all_act.folder_id.unique()\n",
    "# # user_id=340700730.0\n",
    "# # df_select=df_all_act[df_all_act['user_id'] == user_id]\n",
    "# # df_select\n",
    "# list_folders_more2=[]\n",
    "# for folder_id in df_all_act.folder_id.unique():\n",
    "#     lista=list(df_all_act[df_all_act['folder_id'] == folder_id].user_id.unique())\n",
    "    \n",
    "#     if len(lista ) > 3:\n",
    "#         list_folders_more2.append(folder_id)\n",
    "#         #print item"
   ]
  },
  {
   "cell_type": "code",
   "execution_count": null,
   "metadata": {
    "collapsed": false,
    "scrolled": true
   },
   "outputs": [],
   "source": []
  },
  {
   "cell_type": "code",
   "execution_count": null,
   "metadata": {
    "collapsed": true
   },
   "outputs": [],
   "source": []
  },
  {
   "cell_type": "code",
   "execution_count": null,
   "metadata": {
    "collapsed": true
   },
   "outputs": [],
   "source": []
  },
  {
   "cell_type": "code",
   "execution_count": null,
   "metadata": {
    "collapsed": true
   },
   "outputs": [],
   "source": []
  }
 ],
 "metadata": {
  "anaconda-cloud": {},
  "kernelspec": {
   "display_name": "Python [conda root]",
   "language": "python",
   "name": "conda-root-py"
  },
  "language_info": {
   "codemirror_mode": {
    "name": "ipython",
    "version": 2
   },
   "file_extension": ".py",
   "mimetype": "text/x-python",
   "name": "python",
   "nbconvert_exporter": "python",
   "pygments_lexer": "ipython2",
   "version": "2.7.12"
  }
 },
 "nbformat": 4,
 "nbformat_minor": 1
}
