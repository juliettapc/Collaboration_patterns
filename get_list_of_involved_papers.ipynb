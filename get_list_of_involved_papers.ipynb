{
 "cells": [
  {
   "cell_type": "code",
   "execution_count": null,
   "metadata": {
    "collapsed": true
   },
   "outputs": [],
   "source": [
    "import pandas as pd\n",
    "import numpy as np\n",
    "from tqdm import tnrange, tqdm_notebook\n",
    "import scipy\n",
    "import operator\n",
    "import difflib\n",
    "from IPython.core.display import display,HTML\n",
    "try:\n",
    "    import cPickle as pickle     #it is faster than pickle!\n",
    "except:\n",
    "    import pickle\n",
    "    \n",
    "import unicodedata\n",
    "    \n",
    " \n",
    "    \n",
    "display(HTML(\"<style>.container { width:100% !important; }</style>\"))  # to make the notebook use the entire width of the browser"
   ]
  },
  {
   "cell_type": "code",
   "execution_count": null,
   "metadata": {
    "collapsed": true
   },
   "outputs": [],
   "source": [
    "path_merge_linux='/home/juliaponcela/at_NICO/Dropbox_collaboration_patterns/Data/Merged_LinkedIn_WoS/'\n",
    "filename=\"Merged_linkedin-WoS_GS_extra70univ.pickle\"\n",
    "%time df_merged = pd.read_pickle(path_merge_linux+filename)\n",
    "\n"
   ]
  },
  {
   "cell_type": "code",
   "execution_count": null,
   "metadata": {
    "collapsed": true
   },
   "outputs": [],
   "source": [
    "aux=df_merged['author_disambig_id_wos'].dropna().tolist()\n",
    "lista_authors_merge = [int(x) for x in aux] \n",
    "print len(lista_authors_merge) #   79948"
   ]
  },
  {
   "cell_type": "code",
   "execution_count": null,
   "metadata": {
    "collapsed": true
   },
   "outputs": [],
   "source": [
    "####### input file (ALL disambiguated WoS)\n",
    "path='/home/juliaponcela/at_NICO/Dropbox_collaboration_patterns/Data/WoS_data/Disambiguated_authors/'\n",
    "filename='final.tsv'\n",
    "####### tot  number of lines:    34556437\n",
    "\n",
    "\n",
    "\n",
    "nun_lines_testing=500000000000000\n",
    "\n",
    "\n",
    "\n",
    "\n",
    "string_lines=\"_all_lines\"\n",
    "if nun_lines_testing >= 34556437:\n",
    "    print \"tot # lines to read: 34556437    .......\"\n",
    "else:\n",
    "     print \"tot # lines to read:\", nun_lines_testing,\"     .......\"\n",
    "     string_lines=\"_\"+str(nun_lines_testing)+\"lines\"\n",
    "\n",
    "        \n",
    "        \n",
    "list_involved_papers=[]\n",
    "\n",
    "cont=0\n",
    "cont_included=0\n",
    "with open(path+filename) as f:\n",
    "    for line in  tqdm_notebook(f):  # line is a str  #### one line per WOS author      \n",
    "        \n",
    "        line=line.strip(\"\\n\")  #author_id\tuid\tseq\tyear\tauthor_name\taffiliation\ttotal_pubs\n",
    "        #print \"\\n\",line\n",
    "        if cont >0:\n",
    "\n",
    "            flag_write=0\n",
    "            \n",
    "#example:   879592\tWOS:000355773000004|WOS:000340362000001\t1|1\t2015|2014\tBarker, J. G.|Barker, John G.\tNIST, NIST Ctr Neutron Res, Gaithersburg, MD 20899 USA||NIST, Gaithersburg, MD 20899 USA\t2\n",
    "            \n",
    "            if cont == nun_lines_testing:   \n",
    "                  break    \n",
    "         \n",
    "\n",
    "            author_id=int(line.split(\"\\t\")[0] )\n",
    "            \n",
    "            \n",
    "            if author_id in lista_authors_merge:                                               \n",
    "            \n",
    "                cont_included +=1\n",
    "                #print cont_included\n",
    "            \n",
    "                list_uid=line.split(\"\\t\")[1].replace(\"WOS:\",\"\").split(\"|\")  \n",
    "                #list_uid=[x.replace(\"WOS:\",\"\") for x in uid]\n",
    "           \n",
    "                list_involved_papers.extend(list_uid)\n",
    "                \n",
    "               \n",
    "\n",
    "        cont +=1"
   ]
  },
  {
   "cell_type": "code",
   "execution_count": null,
   "metadata": {
    "collapsed": true
   },
   "outputs": [],
   "source": [
    "list_involved_papers=list(set(list_involved_papers))\n",
    "\n",
    "\n",
    "print \"# involved papers:\", len(list_involved_papers), len(set(list_involved_papers))\n",
    "\n",
    "\n",
    "filename_pickle=path_merge_linux+\"list_involved_papers\"+string_lines+\".pickle\"    \n",
    "pickle.dump(list_involved_papers, open(filename_pickle, 'wb'))\n",
    "print \"written:\",path_merge_linux+\"list_involved_papers\"+string_lines+\".pickle\"\n"
   ]
  },
  {
   "cell_type": "code",
   "execution_count": null,
   "metadata": {
    "collapsed": true
   },
   "outputs": [],
   "source": []
  },
  {
   "cell_type": "code",
   "execution_count": null,
   "metadata": {
    "collapsed": true
   },
   "outputs": [],
   "source": []
  }
 ],
 "metadata": {
  "anaconda-cloud": {},
  "kernelspec": {
   "display_name": "Python [conda root]",
   "language": "python",
   "name": "conda-root-py"
  },
  "language_info": {
   "codemirror_mode": {
    "name": "ipython",
    "version": 2
   },
   "file_extension": ".py",
   "mimetype": "text/x-python",
   "name": "python",
   "nbconvert_exporter": "python",
   "pygments_lexer": "ipython2",
   "version": "2.7.12"
  }
 },
 "nbformat": 4,
 "nbformat_minor": 1
}
