{
 "cells": [
  {
   "cell_type": "code",
   "execution_count": 1,
   "metadata": {
    "collapsed": false
   },
   "outputs": [
    {
     "data": {
      "text/html": [
       "<style>.container { width:100% !important; }</style>"
      ],
      "text/plain": [
       "<IPython.core.display.HTML object>"
      ]
     },
     "metadata": {},
     "output_type": "display_data"
    },
    {
     "data": {
      "text/html": [
       "<script>requirejs.config({paths: { 'plotly': ['https://cdn.plot.ly/plotly-latest.min']},});if(!window.Plotly) {{require(['plotly'],function(plotly) {window.Plotly=plotly;});}}</script>"
      ],
      "text/plain": [
       "<IPython.core.display.HTML object>"
      ]
     },
     "metadata": {},
     "output_type": "display_data"
    }
   ],
   "source": [
    "%matplotlib inline  \n",
    "import matplotlib.pyplot as plt   \n",
    "import pandas as pd\n",
    "import random\n",
    "import numpy as np\n",
    "from tqdm import tqdm\n",
    "from tqdm import tnrange, tqdm_notebook\n",
    "from time import sleep\n",
    "import scipy\n",
    "import operator\n",
    "import difflib\n",
    "import math\n",
    "\n",
    "from IPython.core.display import display,HTML\n",
    "display(HTML(\"<style>.container { width:100% !important; }</style>\"))  # to make the notebook use the entire width of the browser\n",
    "\n",
    "\n",
    "\n",
    "try:\n",
    "    import cPickle as pickle  ##################################\n",
    "   #it is faster than pickle!\n",
    "except:\n",
    "    import pickle\n",
    "    \n",
    "import unicodedata\n",
    "import networkx as nx\n",
    "import itertools\n",
    "#import seaborn as sns   ### https://seaborn.pydata.org/tutorial/categorical.html\n",
    "import time  \n",
    "\n",
    "\n",
    "import sys\n",
    "\n",
    "import plotly.plotly as py\n",
    "import plotly.graph_objs as go\n",
    "\n",
    "\n",
    "#i only need my credentials if i want to plot online --- and send plots to server (limits per day apply!)\n",
    "import plotly.tools as tls\n",
    "tls.set_credentials_file(username='juliettapc', api_key='deyNIvtOoDZ5PLmrHlhd')  # my plotly account credentials\n",
    "\n",
    "\n",
    "#import pygraphviz\n",
    "#from networkx.drawing.nx_agraph import graphviz_layout\n",
    "\n",
    "\n",
    "\n",
    "\n",
    "########## to be able to plot offline (without sending the plots to the plotly server every time)\n",
    "import plotly.offline as offline\n",
    "from plotly.graph_objs import *\n",
    "from plotly.offline import download_plotlyjs, init_notebook_mode, plot, iplot\n",
    "\n",
    "init_notebook_mode(connected=True)\n",
    "################\n",
    "\n",
    "\n",
    "\n",
    "# ##### for getting geolocation data  and to calculate distance between two geolocations\n",
    "# import requests\n",
    "# import json\n",
    "#import geopy.distance   \n"
   ]
  },
  {
   "cell_type": "code",
   "execution_count": 2,
   "metadata": {
    "collapsed": false
   },
   "outputs": [
    {
     "name": "stdout",
     "output_type": "stream",
     "text": [
      "438284\n",
      "519045\n",
      "519045\n"
     ]
    }
   ],
   "source": [
    "\n",
    "\n",
    "####### dict folder: list of users\n",
    "pickle_name='/home/juliaponcela/at_NICO/Dropbox_collaboration_patterns/Results/dict_user_id_list_folders_COMPLETE.pickle'\n",
    "with open(pickle_name, 'rb') as handle:\n",
    "    dict_user_id_list_folders = pickle.load(handle)\n",
    "#df_users = pd.DataFrame.from_dict(dict_folder_id_list_users,orient='index')\n",
    "print len(dict_user_id_list_folders)\n",
    "\n",
    "\n",
    "\n",
    "####### dict folder: list of users\n",
    "pickle_name='/home/juliaponcela/at_NICO/Dropbox_collaboration_patterns/Results/dict_folder_id_list_users_COMPLETE.pickle'\n",
    "with open(pickle_name, 'rb') as handle:\n",
    "    dict_folder_id_list_users = pickle.load(handle)\n",
    "#df_users = pd.DataFrame.from_dict(dict_folder_id_list_users,orient='index')\n",
    "print len(dict_folder_id_list_users)\n",
    "\n",
    "\n",
    "\n",
    "\n",
    "\n",
    "########  csv  users' attr\n",
    "path = \"/home/juliaponcela/at_NICO/Dropbox_collaboration_patterns/Data/Dropbox/\"\n",
    "input_file = 'DROPBOX_basic_user_attr_COMPLETE.csv'\n",
    "df_users_attr = pd.read_csv(path+input_file, sep=';',na_values=[\"NAN\",\"NaN\",\"nan\",\"-1\",\"null\",\"\"]) \n",
    "df_users_attr.drop('Unnamed: 0', axis=1, inplace=True)\n",
    "print \"num. users:\",len(df_users_attr.user_id.unique()),df_users_attr.shape    # 400000   (5992006, 7)\n",
    "\n",
    "\n",
    "\n",
    "\n",
    "\n",
    "\n",
    "\n",
    "####### dict folder_id folder attr  (dict and df)\n",
    "pickle_name='/home/juliaponcela/at_NICO/Dropbox_collaboration_patterns/Results/dict_folder_id_folder_attr_with_time_attr_added_avg_cat.pickle'\n",
    "#pickle_name='/home/juliaponcela/at_NICO/Dropbox_collaboration_patterns/Results/dict_folder_id_folder_attr_with_time_attr.pickle'\n",
    "with open(pickle_name, 'rb') as handle:\n",
    "    dict_folder_id_folder_attr = pickle.load(handle)\n",
    "#df_users = pd.DataFrame.from_dict(dict_folder_id_list_users,orient='index')\n",
    "print len(dict_folder_id_folder_attr)\n",
    "\n",
    "\n",
    "\n",
    "\n",
    "csv_name='/home/juliaponcela/at_NICO/Dropbox_collaboration_patterns/Results/folder_id_folder_attr_with_time_attr.csv'\n",
    "df_folder_id_folder_attr = pd.read_csv(csv_name, sep=';',na_values=[\"NAN\",\"NaN\",\"nan\",\"-1\",\"null\",\"\"]) \n",
    "print \"num. folders:\",df_folder_id_folder_attr.shape\n",
    "\n",
    "\n",
    "\n",
    "\n",
    "\n"
   ]
  },
  {
   "cell_type": "code",
   "execution_count": 78,
   "metadata": {
    "collapsed": false,
    "scrolled": true
   },
   "outputs": [
    {
     "name": "stdout",
     "output_type": "stream",
     "text": [
      "\n",
      "done adding the new avg variables to dict_folder_id_folder_attr\n",
      "\n",
      "written: /home/juliaponcela/at_NICO/Dropbox_collaboration_patterns/Results/dict_folder_id_folder_attr_with_time_attr_added_avg_cat.pickle\n",
      "written: /home/juliaponcela/at_NICO/Dropbox_collaboration_patterns/Results/dict_folder_id_folder_attr_with_time_attr_added_avg_cat.csv\n"
     ]
    }
   ],
   "source": [
    "list_folders_added_so_far=[]\n",
    "for folder_id in tqdm_notebook(dict_folder_id_list_users):\n",
    "    #print \"folder:\",folder_id\n",
    "    list_users=dict_folder_id_list_users[folder_id]\n",
    "    #print \"  users in it:\", list_users\n",
    "    df_selected_users=df_users_attr[df_users_attr['user_id'].isin(list_users)]\n",
    "    \n",
    "    \n",
    "    \n",
    "    \n",
    "    \n",
    "    \n",
    "    mean_category_total_publ=df_selected_users.category_total_publ.mean()   # by default, it ignore any NaN values to  compute the avg\n",
    "    #print \"    avg cat. num. publ:\",mean_category_total_publ\n",
    "    \n",
    "    mean_category_total_last_auth=df_selected_users.category_total_last_auth.mean()\n",
    "    #print \"    avg cat. num. publ last author:\",mean_category_total_last_auth\n",
    "    \n",
    "    mean_category_total_cit=df_selected_users.category_total_cit.mean()\n",
    "    #print \"    avg cat. num. cit:\",mean_category_total_cit\n",
    "    \n",
    "    \n",
    "    \n",
    "    dict_folder_id_folder_attr[folder_id][\"avg_categ_num_publ\"] = mean_category_total_publ\n",
    "    dict_folder_id_folder_attr[folder_id][\"avg_categ_num_last_auth\"] = mean_category_total_last_auth\n",
    "    dict_folder_id_folder_attr[folder_id][\"avg_categ_num_cit\"] = mean_category_total_cit\n",
    "    \n",
    "    \n",
    "    list_folders_added_so_far.append(folder_id)\n",
    "    \n",
    "    \n",
    "    \n",
    "    \n",
    "print \"done adding the new avg variables to dict_folder_id_folder_attr\"    \n",
    "    \n",
    "\n",
    "print \n",
    "\n",
    "pickle_name='/home/juliaponcela/at_NICO/Dropbox_collaboration_patterns/Results/dict_folder_id_folder_attr_with_time_attr_added_avg_cat.pickle'\n",
    "with open(pickle_name, 'wb') as handle:\n",
    "    pickle.dump(dict_folder_id_folder_attr, handle)\n",
    "print \"written:\", pickle_name\n",
    "\n",
    "\n",
    "\n",
    "\n",
    "csv_name='/home/juliaponcela/at_NICO/Dropbox_collaboration_patterns/Results/dict_folder_id_folder_attr_with_time_attr_added_avg_cat.csv'\n",
    "df_from_dict = pd.DataFrame.from_dict(dict_folder_id_folder_attr,orient='index')\n",
    "## add foler_id from index\n",
    "df_from_dict.to_csv(csv_name, sep=';')\n",
    "print \"written:\", csv_name\n",
    "\n"
   ]
  },
  {
   "cell_type": "code",
   "execution_count": 83,
   "metadata": {
    "collapsed": false
   },
   "outputs": [
    {
     "data": {
      "text/html": [
       "<div>\n",
       "<table border=\"1\" class=\"dataframe\">\n",
       "  <thead>\n",
       "    <tr style=\"text-align: right;\">\n",
       "      <th></th>\n",
       "      <th>frac_simult_days_over_active_days</th>\n",
       "      <th>most_common_categ_num_publ</th>\n",
       "      <th>num_unique_projects_members_work_on</th>\n",
       "      <th>num_fields</th>\n",
       "      <th>avg_geo_dist_km</th>\n",
       "      <th>most_common_categ_num_last_auth</th>\n",
       "      <th>folder_univ_median_ranking</th>\n",
       "      <th>eff_num_members_by_days_present</th>\n",
       "      <th>num_above_avg_contributors</th>\n",
       "      <th>gini_num_days_present_over_members</th>\n",
       "      <th>...</th>\n",
       "      <th>folder_tot_num_edits</th>\n",
       "      <th>std_geo_dist_km</th>\n",
       "      <th>fraction_SR</th>\n",
       "      <th>most_common_num_cit</th>\n",
       "      <th>number_active_members</th>\n",
       "      <th>overall_num_active_days</th>\n",
       "      <th>folder_tot_num_adds</th>\n",
       "      <th>num_time_stamps</th>\n",
       "      <th>folder_tot_num_dels</th>\n",
       "      <th>folder_id</th>\n",
       "    </tr>\n",
       "  </thead>\n",
       "  <tbody>\n",
       "    <tr>\n",
       "      <th>551107.0</th>\n",
       "      <td>0.0</td>\n",
       "      <td>NaN</td>\n",
       "      <td>13</td>\n",
       "      <td>1.0</td>\n",
       "      <td>291.818436</td>\n",
       "      <td>NaN</td>\n",
       "      <td>146.0</td>\n",
       "      <td>1.0</td>\n",
       "      <td>NaN</td>\n",
       "      <td>0.500000</td>\n",
       "      <td>...</td>\n",
       "      <td>6.0</td>\n",
       "      <td>0.0</td>\n",
       "      <td>NaN</td>\n",
       "      <td>NaN</td>\n",
       "      <td>2</td>\n",
       "      <td>2</td>\n",
       "      <td>5.0</td>\n",
       "      <td>2</td>\n",
       "      <td>0.0</td>\n",
       "      <td>551107.0</td>\n",
       "    </tr>\n",
       "    <tr>\n",
       "      <th>574131.0</th>\n",
       "      <td>NaN</td>\n",
       "      <td>NaN</td>\n",
       "      <td>116</td>\n",
       "      <td>1.0</td>\n",
       "      <td>0.000000</td>\n",
       "      <td>NaN</td>\n",
       "      <td>7.0</td>\n",
       "      <td>0.0</td>\n",
       "      <td>NaN</td>\n",
       "      <td>NaN</td>\n",
       "      <td>...</td>\n",
       "      <td>0.0</td>\n",
       "      <td>0.0</td>\n",
       "      <td>NaN</td>\n",
       "      <td>NaN</td>\n",
       "      <td>1</td>\n",
       "      <td>0</td>\n",
       "      <td>0.0</td>\n",
       "      <td>0</td>\n",
       "      <td>0.0</td>\n",
       "      <td>574131.0</td>\n",
       "    </tr>\n",
       "    <tr>\n",
       "      <th>582764.0</th>\n",
       "      <td>0.0</td>\n",
       "      <td>NaN</td>\n",
       "      <td>36</td>\n",
       "      <td>1.0</td>\n",
       "      <td>0.000000</td>\n",
       "      <td>NaN</td>\n",
       "      <td>10.0</td>\n",
       "      <td>1.0</td>\n",
       "      <td>NaN</td>\n",
       "      <td>0.666667</td>\n",
       "      <td>...</td>\n",
       "      <td>3.0</td>\n",
       "      <td>0.0</td>\n",
       "      <td>NaN</td>\n",
       "      <td>NaN</td>\n",
       "      <td>3</td>\n",
       "      <td>3</td>\n",
       "      <td>3.0</td>\n",
       "      <td>3</td>\n",
       "      <td>0.0</td>\n",
       "      <td>582764.0</td>\n",
       "    </tr>\n",
       "    <tr>\n",
       "      <th>586551.0</th>\n",
       "      <td>0.0</td>\n",
       "      <td>4.0</td>\n",
       "      <td>8</td>\n",
       "      <td>1.0</td>\n",
       "      <td>0.000000</td>\n",
       "      <td>1.0</td>\n",
       "      <td>16.0</td>\n",
       "      <td>1.0</td>\n",
       "      <td>NaN</td>\n",
       "      <td>0.000000</td>\n",
       "      <td>...</td>\n",
       "      <td>4.0</td>\n",
       "      <td>0.0</td>\n",
       "      <td>1.0</td>\n",
       "      <td>4.0</td>\n",
       "      <td>1</td>\n",
       "      <td>103</td>\n",
       "      <td>518.0</td>\n",
       "      <td>103</td>\n",
       "      <td>1453.0</td>\n",
       "      <td>586551.0</td>\n",
       "    </tr>\n",
       "    <tr>\n",
       "      <th>590047.0</th>\n",
       "      <td>0.0</td>\n",
       "      <td>5.0</td>\n",
       "      <td>64</td>\n",
       "      <td>1.0</td>\n",
       "      <td>0.000000</td>\n",
       "      <td>4.0</td>\n",
       "      <td>1.0</td>\n",
       "      <td>1.0</td>\n",
       "      <td>NaN</td>\n",
       "      <td>0.500000</td>\n",
       "      <td>...</td>\n",
       "      <td>0.0</td>\n",
       "      <td>0.0</td>\n",
       "      <td>1.0</td>\n",
       "      <td>5.0</td>\n",
       "      <td>2</td>\n",
       "      <td>1</td>\n",
       "      <td>4.0</td>\n",
       "      <td>1</td>\n",
       "      <td>0.0</td>\n",
       "      <td>590047.0</td>\n",
       "    </tr>\n",
       "  </tbody>\n",
       "</table>\n",
       "<p>5 rows × 43 columns</p>\n",
       "</div>"
      ],
      "text/plain": [
       "          frac_simult_days_over_active_days  most_common_categ_num_publ  \\\n",
       "551107.0                                0.0                         NaN   \n",
       "574131.0                                NaN                         NaN   \n",
       "582764.0                                0.0                         NaN   \n",
       "586551.0                                0.0                         4.0   \n",
       "590047.0                                0.0                         5.0   \n",
       "\n",
       "          num_unique_projects_members_work_on  num_fields  avg_geo_dist_km  \\\n",
       "551107.0                                   13         1.0       291.818436   \n",
       "574131.0                                  116         1.0         0.000000   \n",
       "582764.0                                   36         1.0         0.000000   \n",
       "586551.0                                    8         1.0         0.000000   \n",
       "590047.0                                   64         1.0         0.000000   \n",
       "\n",
       "          most_common_categ_num_last_auth  folder_univ_median_ranking  \\\n",
       "551107.0                              NaN                       146.0   \n",
       "574131.0                              NaN                         7.0   \n",
       "582764.0                              NaN                        10.0   \n",
       "586551.0                              1.0                        16.0   \n",
       "590047.0                              4.0                         1.0   \n",
       "\n",
       "          eff_num_members_by_days_present  num_above_avg_contributors  \\\n",
       "551107.0                              1.0                         NaN   \n",
       "574131.0                              0.0                         NaN   \n",
       "582764.0                              1.0                         NaN   \n",
       "586551.0                              1.0                         NaN   \n",
       "590047.0                              1.0                         NaN   \n",
       "\n",
       "          gini_num_days_present_over_members    ...      folder_tot_num_edits  \\\n",
       "551107.0                            0.500000    ...                       6.0   \n",
       "574131.0                                 NaN    ...                       0.0   \n",
       "582764.0                            0.666667    ...                       3.0   \n",
       "586551.0                            0.000000    ...                       4.0   \n",
       "590047.0                            0.500000    ...                       0.0   \n",
       "\n",
       "          std_geo_dist_km  fraction_SR most_common_num_cit  \\\n",
       "551107.0              0.0          NaN                 NaN   \n",
       "574131.0              0.0          NaN                 NaN   \n",
       "582764.0              0.0          NaN                 NaN   \n",
       "586551.0              0.0          1.0                 4.0   \n",
       "590047.0              0.0          1.0                 5.0   \n",
       "\n",
       "          number_active_members  overall_num_active_days  folder_tot_num_adds  \\\n",
       "551107.0                      2                        2                  5.0   \n",
       "574131.0                      1                        0                  0.0   \n",
       "582764.0                      3                        3                  3.0   \n",
       "586551.0                      1                      103                518.0   \n",
       "590047.0                      2                        1                  4.0   \n",
       "\n",
       "          num_time_stamps  folder_tot_num_dels  folder_id  \n",
       "551107.0                2                  0.0   551107.0  \n",
       "574131.0                0                  0.0   574131.0  \n",
       "582764.0                3                  0.0   582764.0  \n",
       "586551.0              103               1453.0   586551.0  \n",
       "590047.0                1                  0.0   590047.0  \n",
       "\n",
       "[5 rows x 43 columns]"
      ]
     },
     "execution_count": 83,
     "metadata": {},
     "output_type": "execute_result"
    }
   ],
   "source": [
    "df_from_dict.head()"
   ]
  },
  {
   "cell_type": "code",
   "execution_count": 84,
   "metadata": {
    "collapsed": false
   },
   "outputs": [
    {
     "data": {
      "text/plain": [
       "519045"
      ]
     },
     "execution_count": 84,
     "metadata": {},
     "output_type": "execute_result"
    }
   ],
   "source": [
    "len(df_from_dict.folder_id.unique())"
   ]
  },
  {
   "cell_type": "code",
   "execution_count": null,
   "metadata": {
    "collapsed": true
   },
   "outputs": [],
   "source": []
  },
  {
   "cell_type": "code",
   "execution_count": null,
   "metadata": {
    "collapsed": true
   },
   "outputs": [],
   "source": []
  },
  {
   "cell_type": "code",
   "execution_count": null,
   "metadata": {
    "collapsed": true
   },
   "outputs": [],
   "source": []
  },
  {
   "cell_type": "code",
   "execution_count": null,
   "metadata": {
    "collapsed": false
   },
   "outputs": [],
   "source": []
  },
  {
   "cell_type": "code",
   "execution_count": 85,
   "metadata": {
    "collapsed": false
   },
   "outputs": [
    {
     "name": "stdout",
     "output_type": "stream",
     "text": [
      "top: 10.0\n",
      "total number folders 519045   number of selected folders 88796\n",
      "written scv for selected folders: /home/juliaponcela/at_NICO/Dropbox_collaboration_patterns/Results/dict_folder_id_folder_attr_with_time_attr_added_avg_cat_top_10.csv\n",
      "(88796, 43)\n",
      "\n",
      "\n",
      "top: 20.0\n",
      "total number folders 519045   number of selected folders 154819\n",
      "written scv for selected folders: /home/juliaponcela/at_NICO/Dropbox_collaboration_patterns/Results/dict_folder_id_folder_attr_with_time_attr_added_avg_cat_top_20.csv\n",
      "(154819, 43)\n",
      "\n",
      "\n",
      "top: 30.0\n",
      "total number folders 519045   number of selected folders 210178\n",
      "written scv for selected folders: /home/juliaponcela/at_NICO/Dropbox_collaboration_patterns/Results/dict_folder_id_folder_attr_with_time_attr_added_avg_cat_top_30.csv\n",
      "(210178, 43)\n",
      "\n",
      "\n",
      "top: 40.0\n",
      "total number folders 519045   number of selected folders 230514\n",
      "written scv for selected folders: /home/juliaponcela/at_NICO/Dropbox_collaboration_patterns/Results/dict_folder_id_folder_attr_with_time_attr_added_avg_cat_top_40.csv\n",
      "(230514, 43)\n",
      "\n",
      "\n"
     ]
    }
   ],
   "source": [
    "new_dict_user_id_world_ranking=area_dict = dict(zip(df_users_attr['user_id'], df_users_attr['world_ranking']))\n",
    "\n",
    "list_tops=[10.,20.,30.,40.]\n",
    "\n",
    "for top in list_tops:\n",
    "    print \"top:\", top\n",
    "    list_folders_to_include_in_top=[]\n",
    "\n",
    "\n",
    "    for folder_id in dict_folder_id_list_users:\n",
    "        list_users_in_folder=dict_folder_id_list_users[folder_id]\n",
    "\n",
    "        for user_id in list_users_in_folder:\n",
    "            if new_dict_user_id_world_ranking[user_id]<= top:\n",
    "                list_folders_to_include_in_top.append(folder_id)\n",
    "\n",
    "\n",
    "    print \"total number folders\",len(dict_folder_id_list_users) ,       \n",
    "    list_folders_to_include_in_top =   list(set(list_folders_to_include_in_top))         \n",
    "    print \"  number of selected folders\",len(list_folders_to_include_in_top)\n",
    "\n",
    "\n",
    "\n",
    "\n",
    "\n",
    "    ##### i make the selection of the df by the corresponding folders    \n",
    "    df_selected_folders=df_from_dict[df_from_dict['folder_id'].isin(list_folders_to_include_in_top)]\n",
    "\n",
    "\n",
    "\n",
    "    new_name='/home/juliaponcela/at_NICO/Dropbox_collaboration_patterns/Results/dict_folder_id_folder_attr_with_time_attr_added_avg_cat_top_'+str(int(top))+\".csv\"\n",
    "    df_selected_folders.to_csv(new_name, sep=';', index=False)   # index=false so i dont write out the column corresponding to the index \n",
    "    print \"written scv for selected folders:\", new_name\n",
    "    print df_selected_folders.shape\n",
    "    print \n",
    "    print "
   ]
  },
  {
   "cell_type": "code",
   "execution_count": 86,
   "metadata": {
    "collapsed": false
   },
   "outputs": [
    {
     "data": {
      "text/plain": [
       "['act_per_day',\n",
       " 'act_per_day_per_active_user',\n",
       " 'act_period',\n",
       " 'avg_categ_num_cit',\n",
       " 'avg_categ_num_last_auth',\n",
       " 'avg_categ_num_publ',\n",
       " 'avg_geo_dist_km',\n",
       " 'avg_interevent_time',\n",
       " 'burstiness',\n",
       " 'dominated_folder',\n",
       " 'eff_num_members',\n",
       " 'eff_num_members_by_days_present',\n",
       " 'folder_activity_GINI',\n",
       " 'folder_dominator',\n",
       " 'folder_id',\n",
       " 'folder_lifespan',\n",
       " 'folder_tot_act',\n",
       " 'folder_tot_num_adds',\n",
       " 'folder_tot_num_dels',\n",
       " 'folder_tot_num_edits',\n",
       " 'folder_univ_SD_ranking',\n",
       " 'folder_univ_mean_ranking',\n",
       " 'folder_univ_median_ranking',\n",
       " 'frac_simult_days_over_active_days',\n",
       " 'frac_simult_days_overall',\n",
       " 'fract_above_avg_contributors',\n",
       " 'fraction_SR',\n",
       " 'fraction_work_by_SR',\n",
       " 'gini_num_days_present_over_members',\n",
       " 'most_common_career_stage',\n",
       " 'most_common_categ_num_last_auth',\n",
       " 'most_common_categ_num_publ',\n",
       " 'most_common_num_cit',\n",
       " 'most_common_univ_ranking',\n",
       " 'num_above_avg_contributors',\n",
       " 'num_countries',\n",
       " 'num_fields',\n",
       " 'num_time_stamps',\n",
       " 'num_unique_projects_members_work_on',\n",
       " 'num_universities',\n",
       " 'number_active_members',\n",
       " 'overall_num_active_days',\n",
       " 'std_geo_dist_km']"
      ]
     },
     "execution_count": 86,
     "metadata": {},
     "output_type": "execute_result"
    }
   ],
   "source": [
    "sorted(df_selected_folders.columns)"
   ]
  },
  {
   "cell_type": "code",
   "execution_count": null,
   "metadata": {
    "collapsed": true
   },
   "outputs": [],
   "source": []
  },
  {
   "cell_type": "code",
   "execution_count": null,
   "metadata": {
    "collapsed": true
   },
   "outputs": [],
   "source": []
  },
  {
   "cell_type": "code",
   "execution_count": null,
   "metadata": {
    "collapsed": true
   },
   "outputs": [],
   "source": []
  },
  {
   "cell_type": "code",
   "execution_count": null,
   "metadata": {
    "collapsed": true
   },
   "outputs": [],
   "source": []
  },
  {
   "cell_type": "code",
   "execution_count": null,
   "metadata": {
    "collapsed": true
   },
   "outputs": [],
   "source": []
  },
  {
   "cell_type": "code",
   "execution_count": 65,
   "metadata": {
    "collapsed": false,
    "scrolled": true
   },
   "outputs": [
    {
     "name": "stdout",
     "output_type": "stream",
     "text": [
      "659554317.0\n",
      "332223832.0\n",
      "164626470.0\n",
      "207618090.0\n",
      "160432180.0\n",
      "950009931.0\n",
      "34777784.0\n",
      "156237914.0\n",
      "654311516.0\n",
      "930087008.0\n",
      "508559480.0\n",
      "554696838.0\n",
      "896357752.0\n",
      "90177748.0\n",
      "803176490.0\n",
      "244318456.0\n",
      "888144151.0\n",
      "910164252.0\n",
      "1022361891.0\n",
      "1267728682.0\n",
      "843055404.0\n",
      "278921519.0\n",
      "732430392.0\n",
      "1005584770.0\n",
      "1197474182.0\n",
      "978321816.0\n",
      "865075619.0\n",
      "1324526324.0\n",
      "1326449088.0\n",
      "509496657.0\n",
      "914358795.0\n"
     ]
    }
   ],
   "source": [
    "for folder_id in list_folders_added_so_far:\n",
    "    if len(dict_folder_id_list_users[folder_id])>3:\n",
    "        if dict_folder_id_folder_attr[folder_id]['avg_categ_num_cit'] >=1.:\n",
    "            print folder_id"
   ]
  },
  {
   "cell_type": "code",
   "execution_count": null,
   "metadata": {
    "collapsed": true
   },
   "outputs": [],
   "source": []
  },
  {
   "cell_type": "code",
   "execution_count": 70,
   "metadata": {
    "collapsed": false,
    "scrolled": true
   },
   "outputs": [
    {
     "data": {
      "text/html": [
       "<div>\n",
       "<table border=\"1\" class=\"dataframe\">\n",
       "  <thead>\n",
       "    <tr style=\"text-align: right;\">\n",
       "      <th></th>\n",
       "      <th>user_id</th>\n",
       "      <th>world_ranking</th>\n",
       "      <th>category_total_publ</th>\n",
       "      <th>category_total_last_auth</th>\n",
       "      <th>category_total_cit</th>\n",
       "    </tr>\n",
       "  </thead>\n",
       "  <tbody>\n",
       "    <tr>\n",
       "      <th>120531</th>\n",
       "      <td>74518177.0</td>\n",
       "      <td>NaN</td>\n",
       "      <td>2.0</td>\n",
       "      <td>1.0</td>\n",
       "      <td>3.0</td>\n",
       "    </tr>\n",
       "    <tr>\n",
       "      <th>120532</th>\n",
       "      <td>139864851.0</td>\n",
       "      <td>NaN</td>\n",
       "      <td>NaN</td>\n",
       "      <td>NaN</td>\n",
       "      <td>NaN</td>\n",
       "    </tr>\n",
       "    <tr>\n",
       "      <th>120533</th>\n",
       "      <td>139864538.0</td>\n",
       "      <td>NaN</td>\n",
       "      <td>NaN</td>\n",
       "      <td>NaN</td>\n",
       "      <td>NaN</td>\n",
       "    </tr>\n",
       "    <tr>\n",
       "      <th>120534</th>\n",
       "      <td>103220043.0</td>\n",
       "      <td>NaN</td>\n",
       "      <td>NaN</td>\n",
       "      <td>NaN</td>\n",
       "      <td>NaN</td>\n",
       "    </tr>\n",
       "  </tbody>\n",
       "</table>\n",
       "</div>"
      ],
      "text/plain": [
       "            user_id  world_ranking  category_total_publ  \\\n",
       "120531   74518177.0            NaN                  2.0   \n",
       "120532  139864851.0            NaN                  NaN   \n",
       "120533  139864538.0            NaN                  NaN   \n",
       "120534  103220043.0            NaN                  NaN   \n",
       "\n",
       "        category_total_last_auth  category_total_cit  \n",
       "120531                       1.0                 3.0  \n",
       "120532                       NaN                 NaN  \n",
       "120533                       NaN                 NaN  \n",
       "120534                       NaN                 NaN  "
      ]
     },
     "execution_count": 70,
     "metadata": {},
     "output_type": "execute_result"
    }
   ],
   "source": [
    "folder_id=914358795.0\n",
    "list_users=dict_folder_id_list_users[folder_id]\n",
    "df_selected_users=df_users_attr[df_users_attr['user_id'].isin(list_users)]\n",
    "df_selected_users[[\"user_id\",\"world_ranking\",\"category_total_publ\",\"category_total_last_auth\",\"category_total_cit\"]]"
   ]
  },
  {
   "cell_type": "code",
   "execution_count": 71,
   "metadata": {
    "collapsed": false,
    "scrolled": true
   },
   "outputs": [
    {
     "data": {
      "text/plain": [
       "{'act_per_day': 1.0,\n",
       " 'act_per_day_per_active_user': 0.25,\n",
       " 'act_period': 1,\n",
       " 'avg_categ_num_cit': 3.0,\n",
       " 'avg_categ_num_last_auth': 1.0,\n",
       " 'avg_categ_num_publ': 2.0,\n",
       " 'avg_geo_dist_km': 0.0,\n",
       " 'avg_interevent_time': nan,\n",
       " 'burstiness': nan,\n",
       " 'dominated_folder': 1,\n",
       " 'eff_num_members': 1.0,\n",
       " 'eff_num_members_by_days_present': 1.0,\n",
       " 'folder_activity_GINI': 0.75,\n",
       " 'folder_dominator': 1.0,\n",
       " 'folder_lifespan': 79,\n",
       " 'folder_tot_act': 1.0,\n",
       " 'folder_tot_num_adds': 0.0,\n",
       " 'folder_tot_num_dels': 0.0,\n",
       " 'folder_tot_num_edits': 1.0,\n",
       " 'folder_univ_SD_ranking': nan,\n",
       " 'folder_univ_mean_ranking': nan,\n",
       " 'folder_univ_median_ranking': nan,\n",
       " 'frac_simult_days_over_active_days': 0.0,\n",
       " 'frac_simult_days_overall': 0.0,\n",
       " 'fract_above_avg_contributors': nan,\n",
       " 'fraction_SR': 0.0,\n",
       " 'fraction_work_by_SR': nan,\n",
       " 'gini_num_days_present_over_members': 0.75,\n",
       " 'most_common_career_stage': 'jr',\n",
       " 'most_common_categ_num_last_auth': 1.0,\n",
       " 'most_common_categ_num_publ': 2.0,\n",
       " 'most_common_num_cit': 3.0,\n",
       " 'most_common_univ_ranking': nan,\n",
       " 'num_above_avg_contributors': nan,\n",
       " 'num_countries': 1,\n",
       " 'num_fields': 1,\n",
       " 'num_time_stamps': 1,\n",
       " 'num_unique_projects_members_work_on': 11,\n",
       " 'num_universities': 1,\n",
       " 'number_active_members': 4,\n",
       " 'overall_num_active_days': 1,\n",
       " 'std_geo_dist_km': 0.0}"
      ]
     },
     "execution_count": 71,
     "metadata": {},
     "output_type": "execute_result"
    }
   ],
   "source": [
    "dict_folder_id_folder_attr[folder_id]"
   ]
  },
  {
   "cell_type": "code",
   "execution_count": 3,
   "metadata": {
    "collapsed": false
   },
   "outputs": [
    {
     "name": "stdout",
     "output_type": "stream",
     "text": [
      "438284\n"
     ]
    }
   ],
   "source": [
    "####### dict folder: list of users\n",
    "pickle_name='/home/juliaponcela/at_NICO/Dropbox_collaboration_patterns/Results/Networks/network_all_new.pickle'\n",
    "with open(pickle_name, 'rb') as handle:\n",
    "    G = pickle.load(handle)\n",
    "#df_users = pd.DataFrame.from_dict(dict_folder_id_list_users,orient='index')\n",
    "print len(G.nodes()), len(G.edges())  # 438,284       3,795,947\n"
   ]
  },
  {
   "cell_type": "code",
   "execution_count": 12,
   "metadata": {
    "collapsed": false
   },
   "outputs": [],
   "source": []
  },
  {
   "cell_type": "code",
   "execution_count": null,
   "metadata": {
    "collapsed": false
   },
   "outputs": [],
   "source": []
  },
  {
   "cell_type": "code",
   "execution_count": 7,
   "metadata": {
    "collapsed": false
   },
   "outputs": [
    {
     "name": "stdout",
     "output_type": "stream",
     "text": [
      "\n",
      "done.\n"
     ]
    }
   ],
   "source": [
    "# i add a new index to cluster together forlders that share at least one user  (so technically, the attributes of those folders are not really independent)\n",
    "\n",
    "\n",
    "\n",
    "cont_overlapping=0\n",
    "dict_folder_id_new_index_overlapping_members={}\n",
    "dict_new_index_overlap_list_folders={}\n",
    "\n",
    "#\n",
    "\n",
    "for user_id in tqdm_notebook(dict_user_id_list_folders):\n",
    "    \n",
    " \n",
    "    \n",
    "    lista_folders=dict_user_id_list_folders[user_id]\n",
    "    \n",
    "    \n",
    "    \n",
    "    if len(lista_folders) > 1:  # if a user works in two different teams\n",
    "        \n",
    "        \n",
    "        lista_pares_folders=itertools.combinations(lista_folders, 2)\n",
    "\n",
    "        for pair in lista_pares_folders:\n",
    "            \n",
    "            folder1=pair[0]\n",
    "            folder2=pair[1]\n",
    "        \n",
    "        \n",
    "        try:\n",
    "            dict_folder_id_new_index_overlapping_members[folder1].append(cont_overlapping)\n",
    "        except KeyError:\n",
    "            dict_folder_id_new_index_overlapping_members[folder1]=[]\n",
    "            dict_folder_id_new_index_overlapping_members[folder1].append(cont_overlapping)\n",
    "        \n",
    "\n",
    "        \n",
    "        try:\n",
    "            dict_folder_id_new_index_overlapping_members[folder2].append(cont_overlapping)\n",
    "        except KeyError:\n",
    "            dict_folder_id_new_index_overlapping_members[folder2]=[]\n",
    "            dict_folder_id_new_index_overlapping_members[folder2].append(cont_overlapping)\n",
    "            \n",
    "            \n",
    "            \n",
    "            \n",
    "            \n",
    "            \n",
    "        dict_new_index_overlap_list_folders[cont_overlapping]=(folder1, folder2)            \n",
    "            \n",
    "        cont_overlapping +=1\n",
    "        \n",
    "print \"done.\"\n",
    "      \n"
   ]
  },
  {
   "cell_type": "code",
   "execution_count": 10,
   "metadata": {
    "collapsed": false
   },
   "outputs": [
    {
     "data": {
      "text/plain": [
       "213884"
      ]
     },
     "execution_count": 10,
     "metadata": {},
     "output_type": "execute_result"
    }
   ],
   "source": [
    "len(dict_folder_id_new_index_overlapping_members)\n"
   ]
  },
  {
   "cell_type": "code",
   "execution_count": null,
   "metadata": {
    "collapsed": true
   },
   "outputs": [],
   "source": []
  },
  {
   "cell_type": "code",
   "execution_count": null,
   "metadata": {
    "collapsed": true
   },
   "outputs": [],
   "source": []
  },
  {
   "cell_type": "code",
   "execution_count": null,
   "metadata": {
    "collapsed": true
   },
   "outputs": [],
   "source": []
  },
  {
   "cell_type": "code",
   "execution_count": null,
   "metadata": {
    "collapsed": true
   },
   "outputs": [],
   "source": []
  },
  {
   "cell_type": "code",
   "execution_count": null,
   "metadata": {
    "collapsed": true
   },
   "outputs": [],
   "source": []
  },
  {
   "cell_type": "code",
   "execution_count": null,
   "metadata": {
    "collapsed": true
   },
   "outputs": [],
   "source": []
  },
  {
   "cell_type": "code",
   "execution_count": null,
   "metadata": {
    "collapsed": true
   },
   "outputs": [],
   "source": []
  }
 ],
 "metadata": {
  "anaconda-cloud": {},
  "kernelspec": {
   "display_name": "Python [conda root]",
   "language": "python",
   "name": "conda-root-py"
  },
  "language_info": {
   "codemirror_mode": {
    "name": "ipython",
    "version": 2
   },
   "file_extension": ".py",
   "mimetype": "text/x-python",
   "name": "python",
   "nbconvert_exporter": "python",
   "pygments_lexer": "ipython2",
   "version": "2.7.12"
  },
  "widgets": {
   "state": {
    "79a2bec77af34fb6b79a6155da6ed1e6": {
     "views": [
      {
       "cell_index": 22
      }
     ]
    }
   },
   "version": "1.2.0"
  }
 },
 "nbformat": 4,
 "nbformat_minor": 1
}
