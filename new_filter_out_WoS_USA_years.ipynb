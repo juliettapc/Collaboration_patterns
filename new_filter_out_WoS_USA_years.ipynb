{
 "cells": [
  {
   "cell_type": "code",
   "execution_count": 3,
   "metadata": {
    "collapsed": false
   },
   "outputs": [
    {
     "data": {
      "text/html": [
       "<style>.container { width:100% !important; }</style>"
      ],
      "text/plain": [
       "<IPython.core.display.HTML object>"
      ]
     },
     "metadata": {},
     "output_type": "display_data"
    }
   ],
   "source": [
    "from tqdm import tqdm_notebook\n",
    "from IPython.core.display import display,HTML\n",
    "display(HTML(\"<style>.container { width:100% !important; }</style>\"))  # to make the notebook use the entire width of the browser"
   ]
  },
  {
   "cell_type": "code",
   "execution_count": 7,
   "metadata": {
    "collapsed": false
   },
   "outputs": [
    {
     "name": "stdout",
     "output_type": "stream",
     "text": [
      "tot # lines to read: 34556437    .......\n",
      "\n",
      "# lines read: 34556437    included: 6457847\n"
     ]
    }
   ],
   "source": [
    "\n",
    "        \n",
    "        \n",
    "        total_pub=line.split(\"\\t\")[6]\n",
    "        \n",
    "        names=line.split(\"\\t\")[4]\n",
    "        \n",
    "        years_pub_string=line.split(\"\\t\")[3].split(\"|\")       \n",
    "        years_pub = [int(x) for x in years_pub_string]           \n",
    "       \n",
    "        distict_years=\"|\".join(sorted(list(set(years_pub_string))))\n",
    "        \n",
    "        intersect=len(set(list_included_years) & set(years_pub))\n",
    "      \n",
    "        if intersect >0:\n",
    "            for state in list_states:\n",
    "            \n",
    "                if \" \"+state+\" \" in affil:                  \n",
    "                    flag_write +=1               \n",
    "                elif    \",\"+state+\",\" in affil:                \n",
    "                    flag_write +=1#cont_included +=1                    \n",
    "                elif \",\"+state+\" \" in affil:                \n",
    "                    flag_write +=1#cont_included +=1                \n",
    "                elif \" \"+state+\",\" in affil:                            \n",
    "                    flag_write +=1#cont_included +=1               \n",
    "        \n",
    "            \n",
    "        \n",
    "        if flag_write >0:\n",
    "            \n",
    "            new_line=author_id+\"\\t\"+distict_years+\"\\t\"+names+\"\\t\"+affil+\"\\t\"+total_pub\n",
    "            \n",
    "            print >> output_file, new_line#.strip(\"\\n\")\n",
    "           \n",
    "            cont_included +=1\n",
    "            \n",
    "            \n",
    "      cont +=1\n",
    "        \n",
    "output_file.close()\n",
    "\n",
    "print \"# lines read:\", cont, \"   included:\", cont_included\n",
    "\n",
    "\n",
    "\n"
   ]
  },
  {
   "cell_type": "code",
   "execution_count": null,
   "metadata": {
    "collapsed": true
   },
   "outputs": [],
   "source": []
  }
 ],
 "metadata": {
  "anaconda-cloud": {},
  "kernelspec": {
   "display_name": "Python [conda root]",
   "language": "python",
   "name": "conda-root-py"
  },
  "language_info": {
   "codemirror_mode": {
    "name": "ipython",
    "version": 2
   },
   "file_extension": ".py",
   "mimetype": "text/x-python",
   "name": "python",
   "nbconvert_exporter": "python",
   "pygments_lexer": "ipython2",
   "version": "2.7.12"
  }
 },
 "nbformat": 4,
 "nbformat_minor": 1
}
