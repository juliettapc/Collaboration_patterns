{
 "cells": [
  {
   "cell_type": "code",
   "execution_count": 1,
   "metadata": {
    "collapsed": false
   },
   "outputs": [
    {
     "data": {
      "text/html": [
       "<style>.container { width:100% !important; }</style>"
      ],
      "text/plain": [
       "<IPython.core.display.HTML object>"
      ]
     },
     "metadata": {},
     "output_type": "display_data"
    }
   ],
   "source": [
    "%matplotlib inline  \n",
    "import matplotlib.pyplot as plt   \n",
    "import pandas as pd\n",
    "import random\n",
    "import numpy as np\n",
    "from tqdm import tqdm\n",
    "from tqdm import tnrange, tqdm_notebook\n",
    "from time import sleep\n",
    "import scipy\n",
    "import operator\n",
    "import difflib\n",
    "import math\n",
    "\n",
    "from IPython.core.display import display,HTML\n",
    "display(HTML(\"<style>.container { width:100% !important; }</style>\"))  # to make the notebook use the entire width of the browser\n",
    "\n",
    "\n",
    "\n",
    "try:\n",
    "    import cPickle as pickle  ##################################\n",
    "   #it is faster than pickle!\n",
    "except:\n",
    "    import pickle\n",
    "    \n",
    "import unicodedata\n",
    "import networkx as nx\n",
    "import itertools\n",
    "#import seaborn as sns   ### https://seaborn.pydata.org/tutorial/categorical.html\n",
    "import time  \n",
    "\n"
   ]
  },
  {
   "cell_type": "code",
   "execution_count": 56,
   "metadata": {
    "collapsed": false
   },
   "outputs": [
    {
     "name": "stdout",
     "output_type": "stream",
     "text": [
      "done\n"
     ]
    }
   ],
   "source": [
    "########  or i read the list directly\n",
    "try:\n",
    "    pickle_name='/home/juliaponcela/at_NICO/Dropbox_collaboration_patterns/Results/Figures/Time_series_activity/lista_interevent_values_for_users.pickle'\n",
    "    with open(pickle_name, 'rb') as handle:\n",
    "        lista_interevent_values_for_users = pickle.load(handle)\n",
    "except:\n",
    "    \n",
    "\n",
    "    lista_interevent_values_for_users=[]  \n",
    "    grouped = df_all_act.groupby( [ \"user_id\"] )\n",
    "    for item in tqdm_notebook(grouped): # each item is a tuple, where first element is (user_id, folder_id), and second element is the df selected for a given pair of user_id and folder_id\n",
    "\n",
    "        list_values= ( item[1].date - item[1].date.shift() ).fillna(0)\n",
    "        new_list=[x.days for x in list_values][1:]    \n",
    "\n",
    "        lista_interevent_values_for_users += new_list    \n",
    "        \n",
    "        \n",
    "      \n",
    "\n",
    "\n",
    "    pickle_name='/home/juliaponcela/at_NICO/Dropbox_collaboration_patterns/Results/Figures/Time_series_activity/lista_interevent_values_for_users.pickle'\n",
    "    with open(pickle_name, 'wb') as handle:\n",
    "        pickle.dump(lista_interevent_values_for_users, handle)\n",
    "    print \"written:\", pickle_name\n",
    "\n",
    "        \n",
    "        \n",
    "        \n",
    "        \n",
    "        \n",
    "#######################################################\n",
    "\n",
    "\n",
    "\n",
    "\n",
    "try:\n",
    "    pickle_name='/home/juliaponcela/at_NICO/Dropbox_collaboration_patterns/Results/Figures/Time_series_activity/lista_interevent_values_for_folders.pickle'\n",
    "    with open(pickle_name, 'rb') as handle:\n",
    "        lista_interevent_values_for_folders = pickle.load(handle)\n",
    "\n",
    "\n",
    "except:\n",
    "    lista_interevent_values_for_users_in_folders=[]  # 12min to get this info, 3h to get it iterating over the dict and doing df_select every time!!!\n",
    "    grouped = df_all_act.groupby( [ \"user_id\", \"folder_id\"] )\n",
    "    for item in tqdm_notebook(grouped): # each item is a tuple, where first element is (user_id, folder_id), and second element is the df selected for a given pair of user_id and folder_id\n",
    "\n",
    "        list_values= ( item[1].date - item[1].date.shift() ).fillna(0)\n",
    "        new_list=[x.days for x in list_values][1:]    \n",
    "\n",
    "        lista_interevent_values_for_users_in_folders += new_list\n",
    "        \n",
    "        \n",
    "        \n",
    "        \n",
    "\n",
    "    pickle_name='/home/juliaponcela/at_NICO/Dropbox_collaboration_patterns/Results/Figures/Time_series_activity/lista_interevent_values_for_folders.pickle'\n",
    "    with open(pickle_name, 'wb') as handle:\n",
    "        pickle.dump(lista_interevent_values_for_folders, handle)\n",
    "    print \"written:\", pickle_name\n",
    "\n",
    "#######################################################\n",
    "    \n",
    "    \n",
    "    \n",
    "    \n",
    "    \n",
    "\n",
    "\n",
    "\n",
    "\n",
    "\n",
    "try:\n",
    "    pickle_name='/home/juliaponcela/at_NICO/Dropbox_collaboration_patterns/Results/Figures/Time_series_activity/lista_interevent_values_for_users_in_folders.pickle'\n",
    "    with open(pickle_name, 'rb') as handle:\n",
    "        lista_interevent_values_for_users_in_folders = pickle.load(handle)\n",
    "    \n",
    "    \n",
    "except:    \n",
    "    lista_interevent_values_for_folders=[] \n",
    "    grouped = df_all_act.groupby( [\"folder_id\"] )\n",
    "    for item in tqdm_notebook(grouped): # each item is a tuple, where first element is (user_id, folder_id), and second element is the df selected for a given pair of user_id and folder_id\n",
    "\n",
    "        list_values= ( item[1].date - item[1].date.shift() ).fillna(0)\n",
    "        new_list=[x.days for x in list_values][1:]    \n",
    "\n",
    "        lista_interevent_values_for_folders += new_list\n",
    "        \n",
    "        \n",
    "        \n",
    "    pickle_name='/home/juliaponcela/at_NICO/Dropbox_collaboration_patterns/Results/Figures/Time_series_activity/lista_interevent_values_for_users_in_folders.pickle'\n",
    "    with open(pickle_name, 'wb') as handle:\n",
    "        pickle.dump(lista_interevent_values_for_users_in_folders, handle)\n",
    "    print \"written:\", pickle_name\n",
    "\n",
    "\n",
    "    \n",
    "#######################################################\n",
    "\n",
    "\n",
    "\n",
    "\n",
    "\n",
    "\n",
    "\n",
    "\n",
    "\n",
    "print 'done'\n"
   ]
  },
  {
   "cell_type": "code",
   "execution_count": 67,
   "metadata": {
    "collapsed": false
   },
   "outputs": [
    {
     "name": "stdout",
     "output_type": "stream",
     "text": [
      "0.83345786595 0.0197644698193 0.140586165106 5.92844868711    B= -0.711335092411\n",
      "13.2954813236 1576.51448609 39.7053458125 0.334853684096    B= 0.498291553471\n",
      "50.0588235294 0.0553633217993 0.235294117647 212.75    B= -0.990643274854\n"
     ]
    }
   ],
   "source": [
    "#lista1=  np.random.poisson(.5, 1000000)\n",
    "lista1= np.random.power(5, 1000000)\n",
    "\n",
    "\n",
    "# mu, sigma = 5., 1. # mean and standard deviation\n",
    "# lista2= np.random.lognormal(mu, sigma, 1000000)\n",
    "\n",
    "\n",
    "\n",
    "lista2=lista_interevent_values_for_users_in_folders   #lista_interevent_values_for_users\n",
    "\n",
    "\n",
    "lista3=[50,50,50,50,50,50,50,50,50,50,50,50,50,50,50,50,50,50,50,50,50,50,50,50,50,50,50,50,50,50,50,50,51,51]\n",
    "\n",
    "\n",
    "\n",
    "\n",
    "\n",
    "\n",
    "m1=np.mean(lista1)\n",
    "s1=np.std(lista1)\n",
    "\n",
    "\n",
    "m2=np.mean(lista2)\n",
    "s2=np.std(lista2)\n",
    "\n",
    "\n",
    "\n",
    "m3=np.mean(lista3)\n",
    "s3=np.std(lista3)\n",
    "\n",
    "\n",
    "\n",
    "\n",
    "\n",
    "\n",
    "\n",
    "\n",
    "print np.mean(lista1), np.var(lista1), np.std(lista1), np.mean(lista1)/np.std(lista1), \"   B=\", (s1-m1)/(s1+m1)\n",
    "print np.mean(lista2), np.var(lista2), np.std(lista2),np.mean(lista2)/np.std(lista2), \"   B=\",(s2-m2)/(s2+m2)\n",
    "print np.mean(lista3), np.var(lista3), np.std(lista3),np.mean(lista3)/np.std(lista3), \"   B=\",(s3-m3)/(s3+m3)\n"
   ]
  },
  {
   "cell_type": "code",
   "execution_count": null,
   "metadata": {
    "collapsed": false
   },
   "outputs": [],
   "source": []
  },
  {
   "cell_type": "code",
   "execution_count": 39,
   "metadata": {
    "collapsed": true
   },
   "outputs": [],
   "source": []
  },
  {
   "cell_type": "code",
   "execution_count": null,
   "metadata": {
    "collapsed": true
   },
   "outputs": [],
   "source": []
  },
  {
   "cell_type": "code",
   "execution_count": null,
   "metadata": {
    "collapsed": true
   },
   "outputs": [],
   "source": []
  },
  {
   "cell_type": "code",
   "execution_count": 59,
   "metadata": {
    "collapsed": false
   },
   "outputs": [
    {
     "data": {
      "text/html": [
       "<iframe id=\"igraph\" scrolling=\"no\" style=\"border:none;\" seamless=\"seamless\" src=\"https://plot.ly/~juliettapc/36.embed\" height=\"525px\" width=\"100%\"></iframe>"
      ],
      "text/plain": [
       "<plotly.tools.PlotlyDisplay object>"
      ]
     },
     "execution_count": 59,
     "metadata": {},
     "output_type": "execute_result"
    }
   ],
   "source": [
    "import plotly.plotly as py\n",
    "import plotly.graph_objs as go\n",
    "\n",
    "data = [go.Histogram(x=lista2[:1000000],\n",
    "                     histnorm='probability')]\n",
    "\n",
    "py.iplot(data, filename='normalized histogram')\n",
    "                                                       # REAL DATA:"
   ]
  },
  {
   "cell_type": "code",
   "execution_count": 64,
   "metadata": {
    "collapsed": false
   },
   "outputs": [
    {
     "data": {
      "text/html": [
       "<iframe id=\"igraph\" scrolling=\"no\" style=\"border:none;\" seamless=\"seamless\" src=\"https://plot.ly/~juliettapc/36.embed\" height=\"525px\" width=\"100%\"></iframe>"
      ],
      "text/plain": [
       "<plotly.tools.PlotlyDisplay object>"
      ]
     },
     "execution_count": 64,
     "metadata": {},
     "output_type": "execute_result"
    }
   ],
   "source": [
    "data = [go.Histogram(x=lista1,\n",
    "                     histnorm='probability')]\n",
    "\n",
    "py.iplot(data, filename='normalized histogram')"
   ]
  }
 ],
 "metadata": {
  "anaconda-cloud": {},
  "kernelspec": {
   "display_name": "Python [conda root]",
   "language": "python",
   "name": "conda-root-py"
  },
  "language_info": {
   "codemirror_mode": {
    "name": "ipython",
    "version": 2
   },
   "file_extension": ".py",
   "mimetype": "text/x-python",
   "name": "python",
   "nbconvert_exporter": "python",
   "pygments_lexer": "ipython2",
   "version": "2.7.12"
  }
 },
 "nbformat": 4,
 "nbformat_minor": 1
}
