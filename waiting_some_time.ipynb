{
 "cells": [
  {
   "cell_type": "code",
   "execution_count": 4,
   "metadata": {
    "collapsed": false
   },
   "outputs": [
    {
     "name": "stdout",
     "output_type": "stream",
     "text": [
      "Local current time : time.struct_time(tm_year=2017, tm_mon=2, tm_mday=16, tm_hour=17, tm_min=34, tm_sec=55, tm_wday=3, tm_yday=47, tm_isdst=0)\n",
      "Local current time : time.struct_time(tm_year=2017, tm_mon=2, tm_mday=16, tm_hour=17, tm_min=35, tm_sec=0, tm_wday=3, tm_yday=47, tm_isdst=0)\n",
      "Local current time : time.struct_time(tm_year=2017, tm_mon=2, tm_mday=16, tm_hour=17, tm_min=35, tm_sec=5, tm_wday=3, tm_yday=47, tm_isdst=0)\n",
      "Local current time : time.struct_time(tm_year=2017, tm_mon=2, tm_mday=16, tm_hour=17, tm_min=35, tm_sec=10, tm_wday=3, tm_yday=47, tm_isdst=0)\n",
      "Local current time : time.struct_time(tm_year=2017, tm_mon=2, tm_mday=16, tm_hour=17, tm_min=35, tm_sec=15, tm_wday=3, tm_yday=47, tm_isdst=0)\n",
      "Local current time : time.struct_time(tm_year=2017, tm_mon=2, tm_mday=16, tm_hour=17, tm_min=35, tm_sec=20, tm_wday=3, tm_yday=47, tm_isdst=0)\n",
      "Local current time : time.struct_time(tm_year=2017, tm_mon=2, tm_mday=16, tm_hour=17, tm_min=35, tm_sec=25, tm_wday=3, tm_yday=47, tm_isdst=0)\n",
      "Local current time : time.struct_time(tm_year=2017, tm_mon=2, tm_mday=16, tm_hour=17, tm_min=35, tm_sec=30, tm_wday=3, tm_yday=47, tm_isdst=0)\n",
      "Local current time : time.struct_time(tm_year=2017, tm_mon=2, tm_mday=16, tm_hour=17, tm_min=35, tm_sec=35, tm_wday=3, tm_yday=47, tm_isdst=0)\n",
      "Local current time : time.struct_time(tm_year=2017, tm_mon=2, tm_mday=16, tm_hour=17, tm_min=35, tm_sec=40, tm_wday=3, tm_yday=47, tm_isdst=0)\n",
      "done\n"
     ]
    }
   ],
   "source": [
    "import time\n",
    " \n",
    "# Wait for 5 seconds\n",
    "for i in range(10):\n",
    "    time.sleep(5)  # time in seconds\n",
    "    localtime = time.localtime(time.time())\n",
    "    print \"Local current time :\", localtime\n",
    "    \n",
    "    \n",
    "print \"done\""
   ]
  },
  {
   "cell_type": "code",
   "execution_count": 5,
   "metadata": {
    "collapsed": false
   },
   "outputs": [
    {
     "name": "stdout",
     "output_type": "stream",
     "text": [
      "ole y ole\n"
     ]
    }
   ],
   "source": [
    "print \"ole y ole\""
   ]
  }
 ],
 "metadata": {
  "anaconda-cloud": {},
  "kernelspec": {
   "display_name": "Python [conda root]",
   "language": "python",
   "name": "conda-root-py"
  },
  "language_info": {
   "codemirror_mode": {
    "name": "ipython",
    "version": 2
   },
   "file_extension": ".py",
   "mimetype": "text/x-python",
   "name": "python",
   "nbconvert_exporter": "python",
   "pygments_lexer": "ipython2",
   "version": "2.7.12"
  }
 },
 "nbformat": 4,
 "nbformat_minor": 1
}
