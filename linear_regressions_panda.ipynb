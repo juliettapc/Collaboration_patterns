{
 "cells": [
  {
   "cell_type": "code",
   "execution_count": 2,
   "metadata": {
    "collapsed": false
   },
   "outputs": [
    {
     "data": {
      "text/html": [
       "<style>.container { width:100% !important; }</style>"
      ],
      "text/plain": [
       "<IPython.core.display.HTML object>"
      ]
     },
     "metadata": {},
     "output_type": "display_data"
    },
    {
     "data": {
      "text/html": [
       "<script>requirejs.config({paths: { 'plotly': ['https://cdn.plot.ly/plotly-latest.min']},});if(!window.Plotly) {{require(['plotly'],function(plotly) {window.Plotly=plotly;});}}</script>"
      ],
      "text/plain": [
       "<IPython.core.display.HTML object>"
      ]
     },
     "metadata": {},
     "output_type": "display_data"
    }
   ],
   "source": [
    "%matplotlib inline  \n",
    "import matplotlib.pyplot as plt   \n",
    "import pandas as pd\n",
    "import random\n",
    "import numpy as np\n",
    "from tqdm import tqdm\n",
    "from tqdm import tnrange, tqdm_notebook\n",
    "from time import sleep\n",
    "import scipy\n",
    "import operator\n",
    "import difflib\n",
    "import math\n",
    "import statsmodels.formula.api as sm    # package to run regressions using pandas columns directly\n",
    "\n",
    "\n",
    "\n",
    "from IPython.core.display import display,HTML\n",
    "display(HTML(\"<style>.container { width:100% !important; }</style>\"))  # to make the notebook use the entire width of the browser\n",
    "\n",
    "\n",
    "\n",
    "try:\n",
    "    import cPickle as pickle  ##################################\n",
    "   #it is faster than pickle!\n",
    "except:\n",
    "    import pickle\n",
    "    \n",
    "import unicodedata\n",
    "import networkx as nx\n",
    "import itertools\n",
    "import seaborn as sns   ### https://seaborn.pydata.org/tutorial/categorical.html\n",
    "import time  \n",
    "\n",
    "\n",
    "\n",
    "import plotly.plotly as py\n",
    "\n",
    "\n",
    "# i only need my credentials if i want to plot online --- and send plots to server (limits per day apply!)\n",
    "#import plotly.tools as tls\n",
    "#tls.set_credentials_file(username='juliettapc', api_key='deyNIvtOoDZ5PLmrHlhd')  # my plotly account credentials\n",
    "\n",
    "\n",
    "# import pygraphviz\n",
    "# from networkx.drawing.nx_agraph import graphviz_layout\n",
    "\n",
    "\n",
    "\n",
    "\n",
    "########## to be able to plot offline (without sending the plots to the plotly server every time)\n",
    "import plotly.offline as offline\n",
    "from plotly.graph_objs import *\n",
    "from plotly.offline import download_plotlyjs, init_notebook_mode, plot, iplot\n",
    "\n",
    "init_notebook_mode(connected=True)\n",
    "################\n",
    "\n",
    "\n",
    "\n",
    "##### for getting geolocation data  and to calculate distance between two geolocations\n",
    "# import requests\n",
    "# import json\n",
    "# import geopy.distance   \n",
    "\n",
    "\n"
   ]
  },
  {
   "cell_type": "code",
   "execution_count": 4,
   "metadata": {
    "collapsed": false
   },
   "outputs": [
    {
     "name": "stdout",
     "output_type": "stream",
     "text": [
      "(521274, 33)\n",
      "(440353, 21)\n"
     ]
    }
   ],
   "source": [
    "\n",
    "#if grouping_flag==\"folder\":\n",
    "\n",
    "pickle_name='/home/juliaponcela/at_NICO/Dropbox_collaboration_patterns/Results/dict_folder_id_folder_attr_even_more_var_.pickle'\n",
    "with open(pickle_name, 'rb') as handle:\n",
    "    dict_folder_id_folder_attr = pickle.load(handle)\n",
    "df_folders = pd.DataFrame.from_dict(dict_folder_id_folder_attr,orient='index')\n",
    "print df_folders.shape   # 521274, 13\n",
    "\n",
    "\n",
    "\n",
    "# file_name='/home/juliaponcela/at_NICO/Dropbox_collaboration_patterns/Results/folder_id_folder_attr_more_var.csv'\n",
    "# df_folders=pd.read_csv(file_name, sep=';')\n",
    "# print df_folders.shape   # 521274, 13\n",
    "    \n",
    "    \n",
    "#     # folder_id 804726094.332\n",
    "\n",
    "\n",
    "\n",
    "\n",
    "#if grouping_flag==\"user\":\n",
    "pickle_name='/home/juliaponcela/at_NICO/Dropbox_collaboration_patterns/Results/dict_user_id_user_attr_more_var_.pickle'\n",
    "with open(pickle_name, 'rb') as handle:\n",
    "    dict_user_id_user_attr = pickle.load(handle)\n",
    "df_users = pd.DataFrame.from_dict(dict_user_id_user_attr,orient='index')\n",
    "print df_users.shape   # 440353, 11\n",
    "\n",
    "\n"
   ]
  },
  {
   "cell_type": "code",
   "execution_count": 7,
   "metadata": {
    "collapsed": false
   },
   "outputs": [],
   "source": [
    "# df_users.columns\n",
    "#       ['k_unfiltered', 'CC_filtered_by_act',\n",
    "#        '', 'mean_folder_lifespan',\n",
    "#        'category_total_publ', 'category_total_last_auth',\n",
    "#        'user_tot_num_edits', 'k_filtered_by_act', 'number_folders',\n",
    "#        'CC_unfiltered', 'user_tot_num_adds', 'kshell_unfiltered',\n",
    "#        'user_tot_act', 'career_stage', u'kshell_filtered_by_act',\n",
    "#        'user_tot_num_deletes', 'list_folders', u'category_total_cit',\n",
    "#        'SD_fract_work_over_diff_folders', 'user_univ_ranking']\n",
    "\n",
    "\n",
    "\n",
    "# ['avg_num_common_prjt', 'most_common_categ_num_publ', 'list_univ',\n",
    "#        'most_common_categ_num_last_auth', 'most_common_univ_ranking',\n",
    "#        'most_common_career_stage', 'avg_k_filtered_by_act',\n",
    "#        'list_countries', 'fract_pairs_multipl_prjts',\n",
    "#        'folder_activity_GINI', 'folder_univ_median_ranking',\n",
    "#        'avg_k_unfiltered', 'max_num_common_prjt', 'folder_tot_num_deletes',\n",
    "#        'num_countries', 'flag_common_prjt', 'folder_lifespan',\n",
    "#        'avg_kshell_unfiltered', 'multi_univ_collab',\n",
    "#        'avg_CC_filtered_by_act', 'folder_univ_SD_ranking',\n",
    "#        'fraction_work_by_SR', 'members', 'num_folder_members',\n",
    "#        'folder_tot_act', 'avg_kshell_filtered_by_act',\n",
    "#        'folder_tot_num_edits', 'fraction_SR', 'most_common_num_cit',\n",
    "#        'number_active_members', 'list_ranking', 'avg_CC_unfiltered',\n",
    "#        'folder_tot_num_adds']"
   ]
  },
  {
   "cell_type": "code",
   "execution_count": null,
   "metadata": {
    "collapsed": false
   },
   "outputs": [],
   "source": []
  },
  {
   "cell_type": "code",
   "execution_count": 14,
   "metadata": {
    "collapsed": false
   },
   "outputs": [
    {
     "name": "stdout",
     "output_type": "stream",
     "text": [
      "                               OLS Regression Results                               \n",
      "====================================================================================\n",
      "Dep. Variable:     most_common_univ_ranking   R-squared:                       0.018\n",
      "Model:                                  OLS   Adj. R-squared:                  0.017\n",
      "Method:                       Least Squares   F-statistic:                     83.77\n",
      "Date:                      Mon, 02 Oct 2017   Prob (F-statistic):          1.13e-205\n",
      "Time:                              12:38:19   Log-Likelihood:            -3.5831e+05\n",
      "No. Observations:                     55842   AIC:                         7.166e+05\n",
      "Df Residuals:                         55829   BIC:                         7.168e+05\n",
      "Df Model:                                12                                         \n",
      "Covariance Type:                  nonrobust                                         \n",
      "==============================================================================================\n",
      "                                 coef    std err          t      P>|t|      [95.0% Conf. Int.]\n",
      "----------------------------------------------------------------------------------------------\n",
      "Intercept                     84.9841      4.299     19.766      0.000        76.557    93.411\n",
      "folder_lifespan               -0.0116      0.002     -6.576      0.000        -0.015    -0.008\n",
      "folder_tot_act             -8.079e-07   4.49e-07     -1.799      0.072     -1.69e-06  7.24e-08\n",
      "number_active_members         -0.3813      0.173     -2.199      0.028        -0.721    -0.041\n",
      "fraction_SR                   16.3062      3.504      4.653      0.000         9.437    23.175\n",
      "fraction_work_by_SR           -5.7903      1.509     -3.837      0.000        -8.748    -2.832\n",
      "folder_activity_GINI          24.7463      3.847      6.432      0.000        17.205    32.287\n",
      "most_common_categ_num_publ    -8.3264      0.488    -17.068      0.000        -9.283    -7.370\n",
      "fract_pairs_multipl_prjts     -5.4852      1.565     -3.504      0.000        -8.553    -2.417\n",
      "avg_CC_filtered_by_act        22.1152      3.111      7.109      0.000        16.018    28.212\n",
      "avg_kshell_filtered_by_act     0.9543      0.236      4.041      0.000         0.491     1.417\n",
      "num_countries                 11.2888      0.972     11.609      0.000         9.383    13.195\n",
      "multi_univ_collab              1.5036      0.347      4.337      0.000         0.824     2.183\n",
      "==============================================================================\n",
      "Omnibus:                    31819.563   Durbin-Watson:                   1.962\n",
      "Prob(Omnibus):                  0.000   Jarque-Bera (JB):           251507.598\n",
      "Skew:                           2.712   Prob(JB):                         0.00\n",
      "Kurtosis:                      11.870   Cond. No.                     1.25e+07\n",
      "==============================================================================\n",
      "\n",
      "Warnings:\n",
      "[1] Standard Errors assume that the covariance matrix of the errors is correctly specified.\n",
      "[2] The condition number is large, 1.25e+07. This might indicate that there are\n",
      "strong multicollinearity or other numerical problems.\n"
     ]
    }
   ],
   "source": [
    "#  import pandas as pd\n",
    "# >>> import statsmodels.formula.api as sm\n",
    "# >>> df = pd.DataFrame({\"A\": [10,20,30,40,50], \"B\": [20, 30, 10, 40, 50], \"C\": [32, 234, 23, 23, 42523]})\n",
    "# >>> \n",
    "result = sm.ols(formula=\"most_common_univ_ranking ~   folder_lifespan + folder_tot_act + number_active_members +  fraction_SR + fraction_work_by_SR + folder_activity_GINI\\\n",
    "+ most_common_categ_num_publ + fract_pairs_multipl_prjts +  avg_CC_filtered_by_act + avg_kshell_filtered_by_act + num_countries +  multi_univ_collab  \", data=df_folders).fit()\n",
    "#print result.params\n",
    "print result.summary()"
   ]
  },
  {
   "cell_type": "code",
   "execution_count": null,
   "metadata": {
    "collapsed": false
   },
   "outputs": [],
   "source": []
  },
  {
   "cell_type": "code",
   "execution_count": 37,
   "metadata": {
    "collapsed": false
   },
   "outputs": [
    {
     "name": "stdout",
     "output_type": "stream",
     "text": [
      "                               OLS Regression Results                               \n",
      "====================================================================================\n",
      "Dep. Variable:     most_common_univ_ranking   R-squared:                       0.019\n",
      "Model:                                  OLS   Adj. R-squared:                  0.019\n",
      "Method:                       Least Squares   F-statistic:                     78.08\n",
      "Date:                      Mon, 02 Oct 2017   Prob (F-statistic):          2.79e-222\n",
      "Time:                              12:48:29   Log-Likelihood:            -3.5827e+05\n",
      "No. Observations:                     55842   AIC:                         7.166e+05\n",
      "Df Residuals:                         55827   BIC:                         7.167e+05\n",
      "Df Model:                                14                                         \n",
      "Covariance Type:                  nonrobust                                         \n",
      "===================================================================================================\n",
      "                                      coef    std err          t      P>|t|      [95.0% Conf. Int.]\n",
      "---------------------------------------------------------------------------------------------------\n",
      "Intercept                          84.5427      4.413     19.157      0.000        75.893    93.192\n",
      "avg_num_common_prjt                -0.6033      0.088     -6.861      0.000        -0.776    -0.431\n",
      "most_common_categ_num_publ          0.1290      1.309      0.099      0.921        -2.436     2.694\n",
      "most_common_categ_num_last_auth    -6.6296      1.679     -3.950      0.000        -9.919    -3.340\n",
      "avg_k_filtered_by_act               0.5265      0.114      4.623      0.000         0.303     0.750\n",
      "fract_pairs_multipl_prjts          -1.5392      1.662     -0.926      0.354        -4.797     1.718\n",
      "folder_activity_GINI               21.4549      3.602      5.957      0.000        14.395    28.515\n",
      "num_countries                      11.5153      0.968     11.894      0.000         9.618    13.413\n",
      "folder_lifespan                    -0.0113      0.002     -6.368      0.000        -0.015    -0.008\n",
      "multi_univ_collab                   1.0999      0.286      3.843      0.000         0.539     1.661\n",
      "avg_CC_filtered_by_act             24.5650      2.855      8.605      0.000        18.970    30.160\n",
      "fraction_work_by_SR                -6.0547      1.508     -4.015      0.000        -9.010    -3.099\n",
      "folder_tot_act                  -8.135e-07   4.49e-07     -1.812      0.070     -1.69e-06  6.62e-08\n",
      "fraction_SR                        27.3026      4.319      6.321      0.000        18.836    35.769\n",
      "most_common_num_cit                -5.2180      0.947     -5.509      0.000        -7.075    -3.361\n",
      "==============================================================================\n",
      "Omnibus:                    31755.639   Durbin-Watson:                   1.963\n",
      "Prob(Omnibus):                  0.000   Jarque-Bera (JB):           250140.284\n",
      "Skew:                           2.706   Prob(JB):                         0.00\n",
      "Kurtosis:                      11.844   Cond. No.                     1.33e+07\n",
      "==============================================================================\n",
      "\n",
      "Warnings:\n",
      "[1] Standard Errors assume that the covariance matrix of the errors is correctly specified.\n",
      "[2] The condition number is large, 1.33e+07. This might indicate that there are\n",
      "strong multicollinearity or other numerical problems.\n"
     ]
    }
   ],
   "source": [
    "#  import pandas as pd\n",
    "# >>> import statsmodels.formula.api as sm\n",
    "# >>> df = pd.DataFrame({\"A\": [10,20,30,40,50], \"B\": [20, 30, 10, 40, 50], \"C\": [32, 234, 23, 23, 42523]})  avg_num_common_prjt most_common_categ_num_publ most_common_categ_num_last_auth\n",
    "# avg_k_filtered_by_act   fract_pairs_multipl_prjts  folder_activity_GINI  num_countries  folder_lifespan  multi_univ_collab  avg_CC_filtered_by_act  fraction_work_by_SR  folder_tot_act\n",
    "#  fraction_SR  most_common_num_cit\n",
    "# >>> \n",
    "result = sm.ols(formula=\"most_common_univ_ranking ~  avg_num_common_prjt +  most_common_categ_num_publ +  most_common_categ_num_last_auth +  avg_k_filtered_by_act + \\\n",
    "fract_pairs_multipl_prjts + folder_activity_GINI + num_countries + folder_lifespan + multi_univ_collab + avg_CC_filtered_by_act + fraction_work_by_SR + \\\n",
    "folder_tot_act + fraction_SR + most_common_num_cit \", data=df_folders).fit()\n",
    "#print result.params\n",
    "print result.summary()\n",
    "\n",
    "\n",
    "\n"
   ]
  },
  {
   "cell_type": "code",
   "execution_count": 38,
   "metadata": {
    "collapsed": false
   },
   "outputs": [
    {
     "data": {
      "text/plain": [
       "Index([u'avg_num_common_prjt', u'most_common_categ_num_publ', u'list_univ',\n",
       "       u'most_common_categ_num_last_auth', u'most_common_univ_ranking',\n",
       "       u'most_common_career_stage', u'avg_k_filtered_by_act',\n",
       "       u'list_countries', u'fract_pairs_multipl_prjts',\n",
       "       u'folder_activity_GINI', u'folder_univ_median_ranking',\n",
       "       u'avg_k_unfiltered', u'max_num_common_prjt', u'folder_tot_num_deletes',\n",
       "       u'num_countries', u'flag_common_prjt', u'folder_lifespan',\n",
       "       u'avg_kshell_unfiltered', u'multi_univ_collab',\n",
       "       u'avg_CC_filtered_by_act', u'folder_univ_SD_ranking',\n",
       "       u'fraction_work_by_SR', u'members', u'num_folder_members',\n",
       "       u'folder_tot_act', u'avg_kshell_filtered_by_act',\n",
       "       u'folder_tot_num_edits', u'fraction_SR', u'most_common_num_cit',\n",
       "       u'number_active_members', u'list_ranking', u'avg_CC_unfiltered',\n",
       "       u'folder_tot_num_adds'],\n",
       "      dtype='object')"
      ]
     },
     "execution_count": 38,
     "metadata": {},
     "output_type": "execute_result"
    }
   ],
   "source": [
    "df_folders.columns"
   ]
  },
  {
   "cell_type": "code",
   "execution_count": 60,
   "metadata": {
    "collapsed": false
   },
   "outputs": [
    {
     "name": "stdout",
     "output_type": "stream",
     "text": [
      "                            OLS Regression Results                            \n",
      "==============================================================================\n",
      "Dep. Variable:        folder_lifespan   R-squared:                       0.026\n",
      "Model:                            OLS   Adj. R-squared:                  0.026\n",
      "Method:                 Least Squares   F-statistic:                     107.6\n",
      "Date:                Mon, 02 Oct 2017   Prob (F-statistic):          3.35e-309\n",
      "Time:                        13:08:58   Log-Likelihood:            -4.0689e+05\n",
      "No. Observations:               55842   AIC:                         8.138e+05\n",
      "Df Residuals:                   55827   BIC:                         8.139e+05\n",
      "Df Model:                          14                                         \n",
      "Covariance Type:            nonrobust                                         \n",
      "===================================================================================================\n",
      "                                      coef    std err          t      P>|t|      [95.0% Conf. Int.]\n",
      "---------------------------------------------------------------------------------------------------\n",
      "Intercept                          18.4763      8.491      2.176      0.030         1.834    35.119\n",
      "avg_num_common_prjt                -0.5307      0.358     -1.484      0.138        -1.232     0.170\n",
      "most_common_categ_num_publ          3.2874      2.387      1.377      0.168        -1.391     7.966\n",
      "most_common_categ_num_last_auth    -9.9650      3.243     -3.073      0.002       -16.321    -3.609\n",
      "most_common_univ_ranking           -0.0645      0.010     -6.382      0.000        -0.084    -0.045\n",
      "avg_k_filtered_by_act               6.3794      0.500     12.767      0.000         5.400     7.359\n",
      "fract_pairs_multipl_prjts          -2.6013      3.975     -0.654      0.513       -10.393     5.190\n",
      "folder_activity_GINI              205.3134      9.344     21.972      0.000       186.998   223.628\n",
      "max_num_common_prjt                 0.9813      0.253      3.882      0.000         0.486     1.477\n",
      "num_countries                      -2.8667      2.321     -1.235      0.217        -7.416     1.683\n",
      "multi_univ_collab                   6.1640      0.830      7.423      0.000         4.536     7.791\n",
      "avg_CC_filtered_by_act             -4.6594      7.741     -0.602      0.547       -19.833    10.514\n",
      "fraction_work_by_SR                27.3555      3.601      7.597      0.000        20.298    34.413\n",
      "avg_kshell_filtered_by_act         -9.9694      1.050     -9.497      0.000       -12.027    -7.912\n",
      "number_active_members               1.5060      0.416      3.622      0.000         0.691     2.321\n",
      "==============================================================================\n",
      "Omnibus:                    34169.348   Durbin-Watson:                   1.140\n",
      "Prob(Omnibus):                  0.000   Jarque-Bera (JB):           293938.712\n",
      "Skew:                           2.947   Prob(JB):                         0.00\n",
      "Kurtosis:                      12.571   Cond. No.                     1.41e+03\n",
      "==============================================================================\n",
      "\n",
      "Warnings:\n",
      "[1] Standard Errors assume that the covariance matrix of the errors is correctly specified.\n",
      "[2] The condition number is large, 1.41e+03. This might indicate that there are\n",
      "strong multicollinearity or other numerical problems.\n"
     ]
    }
   ],
   "source": [
    "#  import pandas as pd\n",
    "# >>> import statsmodels.formula.api as sm\n",
    "# >>> df = pd.DataFrame({\"A\": [10,20,30,40,50], \"B\": [20, 30, 10, 40, 50], \"C\": [32, 234, 23, 23, 42523]})\n",
    "\n",
    "# avg_num_common_prjt   most_common_categ_num_publ  most_common_categ_num_last_auth most_common_univ_ranking  avg_k_filtered_by_act  fract_pairs_multipl_prjts folder_activity_GINI\n",
    "#  max_num_common_prjt   num_countries  multi_univ_collab   avg_CC_filtered_by_act  fraction_work_by_SR   avg_kshell_filtered_by_act  number_active_members    \n",
    "\n",
    "\n",
    "result = sm.ols(formula=\"folder_lifespan  ~  avg_num_common_prjt +  most_common_categ_num_publ + most_common_categ_num_last_auth + most_common_univ_ranking +\\\n",
    "avg_k_filtered_by_act + fract_pairs_multipl_prjts + folder_activity_GINI +  max_num_common_prjt  + num_countries + multi_univ_collab +  avg_CC_filtered_by_act +\\\n",
    "fraction_work_by_SR +  avg_kshell_filtered_by_act + number_active_members   \", data=df_folders).fit()\n",
    "#print result.params\n",
    "print result.summary()\n",
    "\n",
    "\n",
    "\n"
   ]
  },
  {
   "cell_type": "code",
   "execution_count": null,
   "metadata": {
    "collapsed": true
   },
   "outputs": [],
   "source": [
    "# affair_mod = sm.logit(\"affair ~ occupation + educ + occupation_husb + rate_marriage + age + yrs_married + children  + religious\", dta).fit()\n",
    "\n",
    "# print affair_mod.summary()"
   ]
  },
  {
   "cell_type": "code",
   "execution_count": null,
   "metadata": {
    "collapsed": true
   },
   "outputs": [],
   "source": []
  },
  {
   "cell_type": "code",
   "execution_count": null,
   "metadata": {
    "collapsed": true
   },
   "outputs": [],
   "source": []
  }
 ],
 "metadata": {
  "anaconda-cloud": {},
  "kernelspec": {
   "display_name": "Python [conda root]",
   "language": "python",
   "name": "conda-root-py"
  },
  "language_info": {
   "codemirror_mode": {
    "name": "ipython",
    "version": 2
   },
   "file_extension": ".py",
   "mimetype": "text/x-python",
   "name": "python",
   "nbconvert_exporter": "python",
   "pygments_lexer": "ipython2",
   "version": "2.7.12"
  }
 },
 "nbformat": 4,
 "nbformat_minor": 1
}
